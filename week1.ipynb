{
  "nbformat": 4,
  "nbformat_minor": 0,
  "metadata": {
    "colab": {
      "name": "week1.ipynb",
      "provenance": [],
      "authorship_tag": "ABX9TyMecAeeAS0zzVLSnpMo88oM",
      "include_colab_link": true
    },
    "kernelspec": {
      "name": "python3",
      "display_name": "Python 3"
    },
    "language_info": {
      "name": "python"
    }
  },
  "cells": [
    {
      "cell_type": "markdown",
      "metadata": {
        "id": "view-in-github",
        "colab_type": "text"
      },
      "source": [
        "<a href=\"https://colab.research.google.com/github/RifkieNurdianAdiNugroho/PCVK_Genap_2022/blob/master/week1.ipynb\" target=\"_parent\"><img src=\"https://colab.research.google.com/assets/colab-badge.svg\" alt=\"Open In Colab\"/></a>"
      ]
    },
    {
      "cell_type": "code",
      "execution_count": 1,
      "metadata": {
        "id": "Q0bMsEu420AN"
      },
      "outputs": [],
      "source": [
        "import numpy as np\n",
        "import pandas as pd\n",
        "import cv2 as cv\n",
        "from google.colab.patches import cv2_imshow # for image display\n",
        "from skimage import io\n",
        "from skimage import transform\n",
        "from PIL import Image\n",
        "import matplotlib.pylab as plt"
      ]
    },
    {
      "cell_type": "code",
      "source": [
        "# Membuat list untuk menyimpan url dari beberapa image\n",
        "  urls = [\"https://iiif.lib.ncsu.edu/iiif/0052574\n",
        "/full/800,/0/default.jpg\",\"https://iiif.lib.ncsu.edu/iiif\n",
        "/0016007/full/800,/0/default.jpg\",\"https://placekitten.co\n",
        "m/800/571\"]\n",
        "# baca dan tampilkan image\n",
        "# loop pada tiap url image, beberapa image dapat disimpan pada list\n",
        "for url in urls:\n",
        "  image =io.imread(url)                           #read image\n",
        "  image = cv.resize(image, (0,0), fx=0.5, fy=0.5) #resize image to half size\n",
        "  image_2 = cv.cvtColor(image,cv.Color_BGR2RGB)   #convert color to RGB\n",
        "  final _frame = cv.hconcat((image, image_2))     #concatenate image\n",
        "  cv2_imshow(final_frame)                         #show_image\n",
        "  print('\\n')"
      ],
      "metadata": {
        "id": "VBVBGhQF6qgm",
        "outputId": "2404bc28-c74b-44ef-e199-096e9e7436b5",
        "colab": {
          "base_uri": "https://localhost:8080/",
          "height": 130
        }
      },
      "execution_count": 5,
      "outputs": [
        {
          "output_type": "error",
          "ename": "SyntaxError",
          "evalue": "ignored",
          "traceback": [
            "\u001b[0;36m  File \u001b[0;32m\"<ipython-input-5-ab8881308dda>\"\u001b[0;36m, line \u001b[0;32m9\u001b[0m\n\u001b[0;31m    final _frame = cv.hconcat((image, image_2))     #concatenate image\u001b[0m\n\u001b[0m               ^\u001b[0m\n\u001b[0;31mSyntaxError\u001b[0m\u001b[0;31m:\u001b[0m invalid syntax\n"
          ]
        }
      ]
    }
  ]
}