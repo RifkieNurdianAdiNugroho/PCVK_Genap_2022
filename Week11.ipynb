{
  "nbformat": 4,
  "nbformat_minor": 0,
  "metadata": {
    "colab": {
      "name": "Week11.ipynb",
      "provenance": [],
      "authorship_tag": "ABX9TyPqy3Gk1OaN8PF1YQDI5kyV",
      "include_colab_link": true
    },
    "kernelspec": {
      "name": "python3",
      "display_name": "Python 3"
    },
    "language_info": {
      "name": "python"
    }
  },
  "cells": [
    {
      "cell_type": "markdown",
      "metadata": {
        "id": "view-in-github",
        "colab_type": "text"
      },
      "source": [
        "<a href=\"https://colab.research.google.com/github/RifkieNurdianAdiNugroho/PCVK_Genap_2022/blob/master/Week11.ipynb\" target=\"_parent\"><img src=\"https://colab.research.google.com/assets/colab-badge.svg\" alt=\"Open In Colab\"/></a>"
      ]
    },
    {
      "cell_type": "code",
      "execution_count": 1,
      "metadata": {
        "id": "Wke2Cc2wAL9-",
        "outputId": "31c97835-10be-483f-cf9a-1758ea04116f",
        "colab": {
          "base_uri": "https://localhost:8080/"
        }
      },
      "outputs": [
        {
          "output_type": "stream",
          "name": "stdout",
          "text": [
            "Mounted at /content/drive\n"
          ]
        }
      ],
      "source": [
        "from google.colab import drive\n",
        "drive.mount('/content/drive')"
      ]
    },
    {
      "cell_type": "code",
      "source": [
        "import numpy as np\n",
        "import cv2\n",
        "import matplotlib.pyplot as plt\n",
        "import numpy as np\n",
        "import PIL\n",
        "import io\n",
        "import html\n",
        "import time\n",
        "%matplotlib inline\n",
        "from IPython.display import display, Javascript, Image\n",
        "from google.colab.output import eval_js\n",
        "from base64 import b64decode, b64encode"
      ],
      "metadata": {
        "id": "Km7UPcCkAoSt"
      },
      "execution_count": 2,
      "outputs": []
    },
    {
      "cell_type": "code",
      "source": [
        "test_image1 = cv2.imread('/content/drive/MyDrive/PCVK/facedet/jokowi.jpg')\n",
        "test_image2 = cv2.imread('/content/drive/MyDrive/PCVK/facedet/jokowi.jpg')\n",
        "\n",
        "test_image3 = cv2.imread('/content/drive/MyDrive/PCVK/facedet/kartini.jpg')\n",
        "test_image4 = cv2.imread('/content/drive/MyDrive/PCVK/facedet/kartini.jpg')\n",
        "\n",
        "test_image5 = cv2.imread('/content/drive/MyDrive/PCVK/facedet/kucing.jpg')\n",
        "test_image6 = cv2.imread('/content/drive/MyDrive/PCVK/facedet/kucing.jpg')\n",
        "\n",
        "test_image7 = cv2.imread('/content/drive/MyDrive/PCVK/facedet/mask.png')\n",
        "test_image8 = cv2.imread('/content/drive/MyDrive/PCVK/facedet/mask.png')\n",
        "\n",
        "test_image9 = cv2.imread('/content/drive/MyDrive/PCVK/facedet/mjordan.jpg')\n",
        "test_image10 = cv2.imread('/content/drive/MyDrive/PCVK/facedet/mjordan.jpg')\n",
        "\n",
        "test_image11 = cv2.imread('/content/drive/MyDrive/PCVK/facedet/solvayconf.jpg')\n",
        "test_image12 = cv2.imread('/content/drive/MyDrive/PCVK/facedet/solvayconf.jpg')\n",
        "\n",
        "def convertToRGB(image):\n",
        "    return cv2.cvtColor(image, cv2.COLOR_BGR2RGB)\n",
        "\n",
        "faceCascade=cv2.CascadeClassifier(cv2.data.haarcascades + \"haarcascade_frontalface_default.xml\")\n",
        "\n",
        "faces_rects = faceCascade.detectMultiScale(test_image1, scaleFactor = 1.2, minNeighbors = 5);\n",
        "for (x,y,w,h) in faces_rects:\n",
        "     cv2.rectangle(test_image1, (x, y), (x+w, y+h), (0, 255, 0), 5)\n",
        "\n",
        "\n",
        "faces_rects = faceCascade.detectMultiScale(test_image4, scaleFactor = 1.2, minNeighbors = 5);\n",
        "for (x,y,w,h) in faces_rects:\n",
        "     cv2.rectangle(test_image4, (x, y), (x+w, y+h), (0, 255, 0), 5)\n",
        "\n",
        "\n",
        "faces_rects = faceCascade.detectMultiScale(test_image6, scaleFactor = 1.2, minNeighbors = 5);\n",
        "for (x,y,w,h) in faces_rects:\n",
        "     cv2.rectangle(test_image6, (x, y), (x+w, y+h), (0, 255, 0), 5)\n",
        "\n",
        "\n",
        "faces_rects = faceCascade.detectMultiScale(test_image8, scaleFactor = 1.2, minNeighbors = 5);\n",
        "for (x,y,w,h) in faces_rects:\n",
        "     cv2.rectangle(test_image8, (x, y), (x+w, y+h), (0, 255, 0), 5)\n",
        "\n",
        "\n",
        "faces_rects = faceCascade.detectMultiScale(test_image10, scaleFactor = 1.2, minNeighbors = 5);\n",
        "for (x,y,w,h) in faces_rects:\n",
        "     cv2.rectangle(test_image10, (x, y), (x+w, y+h), (0, 255, 0), 3)\n",
        "\n",
        "\n",
        "faces_rects = faceCascade.detectMultiScale(test_image12, scaleFactor = 1.2, minNeighbors = 5);\n",
        "for (x,y,w,h) in faces_rects:\n",
        "     cv2.rectangle(test_image12, (x, y), (x+w, y+h), (0, 255, 0), 3)\n",
        "\n",
        "f, axarr = plt. subplots(6,2,figsize=(15,10))\n",
        "plt.subplot(321),plt.imshow(convertToRGB(test_image2))\n",
        "plt.subplot(322),plt.imshow(convertToRGB(test_image1))\n",
        "\n",
        "plt.subplot(323),plt.imshow(convertToRGB(test_image3))\n",
        "plt.subplot(324),plt.imshow(convertToRGB(test_image4))\n",
        "\n",
        "plt.subplot(325),plt.imshow(convertToRGB(test_image5))\n",
        "plt.subplot(326),plt.imshow(convertToRGB(test_image6))\n",
        "\n",
        "f, axarr = plt. subplots(6,2,figsize=(15,10))\n",
        "plt.subplot(321),plt.imshow(convertToRGB(test_image7))\n",
        "plt.subplot(322),plt.imshow(convertToRGB(test_image8))\n",
        "\n",
        "plt.subplot(323),plt.imshow(convertToRGB(test_image9))\n",
        "plt.subplot(324),plt.imshow(convertToRGB(test_image10))\n",
        "\n",
        "plt.subplot(325),plt.imshow(convertToRGB(test_image11))\n",
        "plt.subplot(326),plt.imshow(convertToRGB(test_image12))"
      ],
      "metadata": {
        "id": "DHJ82LshAr6Z"
      },
      "execution_count": null,
      "outputs": []
    },
    {
      "cell_type": "code",
      "source": [
        "cascade_wajah = cv2.CascadeClassifier(cv2.data.haarcascades + \"haarcascade_frontalcatface.xml\")\n",
        "\n",
        "kucing = cv2.imread('/content/drive/MyDrive/PCVK/facedet/kucing.jpg', 0)\n",
        "kucing_ori = cv2.imread('/content/drive/MyDrive/PCVK/facedet/kucing.jpg', 0)\n",
        "\n",
        "roi_wajah = cascade_wajah.detectMultiScale(kucing_ori)\n",
        "for (x,y,w,h) in roi_wajah: \n",
        "  cv2.rectangle(kucing_ori,(x,y),(x+w,y+h),(0,255,0),3) \n",
        "plt.figure(figsize = (10,10))\n",
        "\n",
        "f, axarr = plt. subplots(1,2,figsize=(15,5))\n",
        "plt.subplot(121),plt.imshow(kucing, cmap='gray')\n",
        "plt.subplot(122),plt.imshow(kucing_ori, cmap='gray')\n",
        "plt.show()"
      ],
      "metadata": {
        "id": "XSqsTr4PAuij"
      },
      "execution_count": null,
      "outputs": []
    },
    {
      "cell_type": "code",
      "source": [
        "cascade_wajah = cv2.CascadeClassifier(cv2.data.haarcascades + \"haarcascade_eye.xml\")\n",
        "\n",
        "jokowi = cv2.imread('/content/drive/MyDrive/PCVK/facedet/jokowi.jpg')\n",
        "jokowi_ori = cv2.imread('/content/drive/MyDrive/PCVK/facedet/jokowi.jpg')\n",
        "jokowi_gray = cv2.cvtColor(jokowi, cv2.COLOR_BGR2GRAY)\n",
        "jokowi_ori_gray = cv2.cvtColor(jokowi_ori, cv2.COLOR_BGR2GRAY)\n",
        "\n",
        "roi_wajah = cascade_wajah.detectMultiScale(jokowi_gray)\n",
        "for (x,y,w,h) in roi_wajah: \n",
        "  cv2.rectangle(jokowi_gray,(x,y),(x+w,y+h),(255,255,255),3)\n",
        "\n",
        "# Plot outputs\n",
        "f, axarr = plt. subplots(1,2,figsize=(15,15))\n",
        "plt.subplot(121),plt.imshow(jokowi_ori_gray, cmap='gray')\n",
        "plt.subplot(122),plt.imshow(jokowi_gray, cmap='gray')\n",
        "plt.show()"
      ],
      "metadata": {
        "id": "orfp4wyXAxKb"
      },
      "execution_count": null,
      "outputs": []
    },
    {
      "cell_type": "code",
      "source": [
        "def js_to_image(js_reply):\n",
        "  image_bytes = b64decode(js_reply.split(',')[1])\n",
        "  jpg_as_np = np.frombuffer(image_bytes, dtype=np.uint8)\n",
        "  img = cv2.imdecode(jpg_as_np, flags=1)\n",
        "\n",
        "  return img\n",
        "\n",
        "\n",
        "def bbox_to_bytes(bbox_array):\n",
        "  bbox_PIL = PIL.Image.fromarray(bbox_array, 'RGBA')\n",
        "  iobuf = io.BytesIO()\n",
        "  bbox_PIL.save(iobuf, format='png')\n",
        "  bbox_bytes = 'data:image/png;base64,{}'.format((str(b64decode(iobuf.getvalue()), 'utf-8')))\n",
        "  \n",
        "  return bbox_to_bytes"
      ],
      "metadata": {
        "id": "qFfiM4uFAy_v"
      },
      "execution_count": null,
      "outputs": []
    },
    {
      "cell_type": "code",
      "source": [
        "face_cascade = cv2.CascadeClassifier(cv2.samples.findFile(cv2.data.haarcascades + 'haarcascade_frontalface_default.xml'))"
      ],
      "metadata": {
        "id": "QZx-V7nTA05m"
      },
      "execution_count": null,
      "outputs": []
    },
    {
      "cell_type": "code",
      "source": [
        "def take_photo(filename='pho.jpg', quality=0.8):\n",
        "  js = Javascript('''\n",
        "    async function takePhoto(quality){\n",
        "      const div = document.createElement('div');\n",
        "      const capture = document.createElement('button');\n",
        "      capture.textContent = 'Capture';\n",
        "      div.appendChild(capture);\n",
        "\n",
        "      const video = document.createElement('video');\n",
        "      video.style.display = 'block';\n",
        "      const stream = await navigator.mediaDevices.getUserMedia({video: true});\n",
        "\n",
        "      document.body.appendChild(div);\n",
        "      div.appendChild(video);\n",
        "      video.srcObject = stream;\n",
        "      await video.play();\n",
        "\n",
        "      google.colab.output.setIframeHeight(document.documentElement.scrollHeight, true);\n",
        "\n",
        "      await new Promise((resolve) => capture.onclick = resolve);\n",
        "\n",
        "      const canvas = document.createElement('canvas');\n",
        "      canvas.width = video.videoWidth;\n",
        "      canvas.height = video.videoHeight;\n",
        "      canvas.getContext('2d').drawImage(video, 0, 0);\n",
        "      stream.getVideoTracks()[0].stop();\n",
        "      div.remove();\n",
        "      return canvas.toDataURL('image/jpeg', quality);\n",
        "    }\n",
        "    ''')\n",
        "  display(js)\n",
        "\n",
        "  data = eval_js('takePhoto({})'.format(quality))\n",
        "  img = js_to_image(data)\n",
        "  gray = cv2.cvtColor(img, cv2.COLOR_RGB2GRAY)\n",
        "  print(gray.shape)\n",
        "  faces = face_cascade.detectMultiScale(gray)\n",
        "  for(x,y,w,h) in faces:\n",
        "    img = cv2.rectangle(img,(x,y),(x+w,y+h),(255, 0, 0),2)\n",
        "\n",
        "  cv2.imwrite(filename, img)\n",
        "\n",
        "  return filename"
      ],
      "metadata": {
        "id": "X6oEUA6JA3Ro"
      },
      "execution_count": null,
      "outputs": []
    },
    {
      "cell_type": "code",
      "source": [
        "try:\n",
        "  filename = take_photo('pho.jpg')\n",
        "  print('Saved to {}'.format(filename))\n",
        "\n",
        "  display(Image(filename))\n",
        "except Exception as err:\n",
        "  print(str(err))"
      ],
      "metadata": {
        "id": "bxPQvCo9A6hG"
      },
      "execution_count": null,
      "outputs": []
    },
    {
      "cell_type": "code",
      "source": [
        "image = cv2.imread('/content/drive/MyDrive/PCVK/facedet/mjordan.jpg') # reads the image\n",
        "image = cv2.cvtColor(image, cv2.COLOR_BGR2GRAY) # convert to GRAY\n",
        "figure_size = 9 # the dimension of the x and y axis of the kernal.\n",
        "\n",
        "new_image = cv2.medianBlur(image, figure_size)\n",
        "f, axarr = plt. subplots(1,2,figsize=(15,15))\n",
        "plt.subplot(121), plt.imshow(image, cmap='gray'),plt.title('Original')\n",
        "plt.subplot(122), plt.imshow(new_image, cmap='gray'),plt.title('Median Filter')\n",
        "plt.show()"
      ],
      "metadata": {
        "id": "bdpUamcLA8Jg"
      },
      "execution_count": null,
      "outputs": []
    }
  ]
}