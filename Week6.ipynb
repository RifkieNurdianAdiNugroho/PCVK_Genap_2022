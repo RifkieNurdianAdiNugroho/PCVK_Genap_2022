{
  "nbformat": 4,
  "nbformat_minor": 0,
  "metadata": {
    "colab": {
      "name": "Week6.ipynb",
      "provenance": [],
      "authorship_tag": "ABX9TyM3275sMdANp4O2GqDlKpKV",
      "include_colab_link": true
    },
    "kernelspec": {
      "name": "python3",
      "display_name": "Python 3"
    },
    "language_info": {
      "name": "python"
    }
  },
  "cells": [
    {
      "cell_type": "markdown",
      "metadata": {
        "id": "view-in-github",
        "colab_type": "text"
      },
      "source": [
        "<a href=\"https://colab.research.google.com/github/RifkieNurdianAdiNugroho/PCVK_Genap_2022/blob/master/Week6.ipynb\" target=\"_parent\"><img src=\"https://colab.research.google.com/assets/colab-badge.svg\" alt=\"Open In Colab\"/></a>"
      ]
    },
    {
      "cell_type": "code",
      "execution_count": 1,
      "metadata": {
        "id": "4V_lMzsYJ2Iv",
        "outputId": "189ad90d-9d96-4d2e-b7d6-9a330a0d271a",
        "colab": {
          "base_uri": "https://localhost:8080/"
        }
      },
      "outputs": [
        {
          "output_type": "stream",
          "name": "stdout",
          "text": [
            "Mounted at /content/drive\n"
          ]
        }
      ],
      "source": [
        "from google.colab import drive\n",
        "\n",
        "drive.mount('/content/drive')"
      ]
    },
    {
      "cell_type": "code",
      "source": [
        "import cv2 as cv\n",
        "from google.colab.patches import cv2_imshow\n",
        "from skimage import io\n",
        "import matplotlib.pyplot as plt\n",
        "import numpy as np\n",
        "import math\n",
        "import os\n",
        "import glob"
      ],
      "metadata": {
        "id": "sKLzQYboKpvQ"
      },
      "execution_count": 2,
      "outputs": []
    },
    {
      "cell_type": "code",
      "source": [
        "img_l = cv.imread('/content/drive/MyDrive/pcvk/img/lena.jpg')\n",
        "height, width, depth = np.shape(img_l)\n",
        "names = np.arange(256)\n",
        "\n",
        "blue = [0]*256\n",
        "green = [0]*256\n",
        "red = [0]*256\n",
        "\n",
        "for y in range(0,height):\n",
        "  for x in range(0,width):\n",
        "    blue[img_l[y][x][0]] += 1\n",
        "    green[img_l[y][x][1]] += 1\n",
        "    red[img_l[y][x][2]] += 1\n",
        "\n",
        "names = np.arange(256)\n",
        "fig, axs = plt.subplots(1, 3, figsize=[20,5], sharex=True, sharey=True)\n",
        "fig.suptitle('Histogram RGB plot')\n",
        "fig.text(0.05, 0.5, 'Jumlah Kemunculan', va='center', rotation='vertical')\n",
        "fig.text(0.5, 0.04, 'Intensitas Warna', ha='center')\n",
        "axs[0].bar(names, red, color='red')\n",
        "axs[1].bar(names, green, color='green')\n",
        "axs[2].bar(names, blue, color='blue')"
      ],
      "metadata": {
        "id": "NSe3A_ZYUoT1"
      },
      "execution_count": null,
      "outputs": []
    },
    {
      "cell_type": "code",
      "source": [
        "colors = (\"b\", \"g\", \"r\")\n",
        "channel_ids = (0,1,2)\n",
        "\n",
        "# membuat histogram plot\n",
        "plt.xlim([0,256])\n",
        "for channel_id, c in zip(channel_ids, colors):\n",
        "    histogram, bin_edges = np.histogram(\n",
        "        img_l[:,:, channel_id], bins=256, range=(0,256)\n",
        "    )\n",
        "    plt.plot(bin_edges[0:-1], histogram, color=c)\n",
        "\n",
        "plt.xlabel(\"Intensitas Warna\")\n",
        "plt.ylabel(\"Jumlah Kemunculan\")\n",
        "\n",
        "plt.show()"
      ],
      "metadata": {
        "id": "Bl_iFZonUpJf"
      },
      "execution_count": null,
      "outputs": []
    },
    {
      "cell_type": "code",
      "source": [
        "img1 = cv.imread('/content/drive/MyDrive/pcvk/img/lena_lc.jpg') \n",
        "def histog(img1):\n",
        "  height, width, depth = np.shape(img1) \n",
        "  ax = np.zeros((3,256)) \n",
        "  for y in range(0,height) : \n",
        "    for x in range(0,width) :\n",
        "      ax[0][img1[y][x][0]] += 1 \n",
        "      ax[1][img1[y][x][1]] += 1\n",
        "      ax[2][img1[y][x][2]] += 1 \n",
        "  return ax\n",
        "\n",
        "histo_asli = histog(img1)\n",
        "\n",
        "#convert to Numpy array \n",
        "img_array = np.asarray(img1)\n",
        "\n",
        "#Step 1: Normalized cumulative histogram\n",
        "#flatten image array and calculate histogram via binning \n",
        "histogram_array = np.bincount(img_array.flatten(), minlength=256)\n",
        "\n",
        "#normalize \n",
        "num_pixels = np. sum(histogram_array) \n",
        "histogram_array = histogram_array/num_pixels\n",
        "\n",
        "#normalized cumulative histogram \n",
        "chistogram_array = np.cumsum(histogram_array)\n",
        "\n",
        "#Step 2: Pixel mapping lookup table\n",
        "transform_map = np.floor(255 * chistogram_array). astype (np.uint8)\n",
        "\n",
        "#Step 3: Transformation\n",
        "# flatten image array into 10 list \n",
        "img_list = list(img_array.flatten())\n",
        "\n",
        "# transform pixel values to equalize \n",
        "eq_img_list = [transform_map[p] for p in img_list]\n",
        "\n",
        "# reshape and write back into img_array \n",
        "eq_img_array = np.reshape(np.asarray(eq_img_list), img_array.shape) \n",
        "img2 = eq_img_array\n",
        "\n",
        "equal_histo = histog(img2)\n",
        "\n",
        "final_frame = cv.hconcat((img1, img2)) #concatenate image\n",
        "cv2_imshow(final_frame)\n",
        "\n",
        "names = np.arange (256) \n",
        "isgrayimg = np.array_equal(blue, green, red) \n",
        "if (isgrayimg == False):\n",
        "  fig, axs = plt.subplots(2, 3, figsize=[20,5], sharex=True, sharey=True) \n",
        "  fig.suptitle('Histogram RGB plot') \n",
        "  fig.text(0.09, 0.5, 'Jumlah Kemunculan', va='center', rotation='vertical') \n",
        "  fig.text(0.5, 0.04, 'Intensitas Warna', ha='center') \n",
        "  axs[0,0].bar(names, histo_asli[2], color='red') \n",
        "  axs[0,1].bar(names, histo_asli[1], color='green') \n",
        "  axs[0,2].bar(names, histo_asli[0], color='blue') \n",
        "  axs[1,0].bar(names, equal_histo[2], color='red') \n",
        "  axs[1,1].bar(names, equal_histo[1], color='green')\n",
        "  axs[1,2].bar(names, equal_histo[0], color='blue') \n",
        "else:\n",
        "  fig, axs = plt. subplots(1, 2, figsize=[20,5], sharex=Trbe, sharey=True) \n",
        "  fig. suptitle('Histogram RGB plot') \n",
        "  fig.text(0.09, 0.5, 'Jumlah Kemunculan', va='center', rotation='vertical') \n",
        "  fig.text(0.5, 0.94, 'Intensitas Warna', ha='center') \n",
        "  axs[0,0].bar(names, histo_asli[2], color='gray') \n",
        "  axs[0,1].bar(names, equal_histo[2], color='gray')"
      ],
      "metadata": {
        "id": "Z7DdJVsfUrOX"
      },
      "execution_count": null,
      "outputs": []
    },
    {
      "cell_type": "code",
      "source": [
        "channels = cv.split(img1)\n",
        "eq_channels = []\n",
        "for ch, color in zip(channels, [\"r\", \"g\", \"b\"]):\n",
        "  eq_channels.append(cv.equalizeHist(ch))\n",
        "eq_image = cv.merge(eq_channels)\n",
        "equal_histo = histog(eq_image)\n",
        "\n",
        "final_frame = cv.hconcat((img1, eq_image))\n",
        "cv2_imshow(final_frame)\n",
        "\n",
        "names = np.arange(256)\n",
        "isgraying = np.array_equal(blue, green, red)\n",
        "if (isgraying == False):\n",
        "  fig, axs = plt.subplots(2, 3, figsize=[20,5], sharex=True, sharey =True)\n",
        "  fig.suptitle('Histogram RGB plot')\n",
        "  fig.text(0.09, 0.5, 'Jumlah Kemunculan', va='center', rotation='vertical')\n",
        "  fig.text(0.5, 0.04, 'Intensitas Warna', ha='center')\n",
        "  axs[0,0].bar(names, histo_asli[2], color='red')\n",
        "  axs[0,1].bar(names, histo_asli[1], color='green')\n",
        "  axs[0,2].bar(names, histo_asli[0], color='blue')\n",
        "  axs[1,0].bar(names, histo_asli[2], color='red')\n",
        "  axs[1,1].bar(names, histo_asli[1], color='green')\n",
        "  axs[1,2].bar(names, histo_asli[0], color='blue')\n",
        "else:\n",
        "  fig, axs = plt.subplots(1, 2, figsize=[20,5], sharex=True, sharey=True)\n",
        "  fig.suptitle('Histogram RGB plot')\n",
        "  fig.text(0.09, 0.5, 'Jumlah Kemunculan', va='center', rotation='vertical')\n",
        "  fig.text(0.5, 0.04, 'Intensitas Warna', ha='center')\n",
        "  axs[0,0].bar(names, histo_asli[2], color='gray')\n",
        "  axs[0,1].bar(names, equal_histo[2], color='gray')"
      ],
      "metadata": {
        "id": "Wwx-4wVidu2V"
      },
      "execution_count": null,
      "outputs": []
    },
    {
      "cell_type": "code",
      "source": [
        "def warnaTerdekat (r, g, b):\n",
        "  pValue = 0\n",
        "  minDistance = 255*255 + 255*255 + 255*255 + 1\n",
        "  warnaPallette = [[0, 0, 0], [255, 0, 0], [0, 255, 0], [255, 255, 0], [0, 0, 255], [255, 0, 255], [0, 255, 255], [255, 255, 255]]\n",
        "  for i in range(len(warnaPallette)):\n",
        "    rDiff = r - warnaPallette[i][0]\n",
        "    gDiff = g - warnaPallette[i][1]\n",
        "    bDiff = b - warnaPallette[i][2]\n",
        "    distance = rDiff*rDiff + gDiff*gDiff + bDiff*bDiff\n",
        "    if (distance < minDistance):\n",
        "      minDistance = distance\n",
        "      pValue = i\n",
        "  return pValue\n",
        "\n",
        "warnaPallette = [[0, 0, 0], [255, 0, 0], [0, 255, 0], [255, 255, 0], [0, 0, 255], [255, 0, 255], [0, 255, 255], [255, 255, 255]]\n",
        "img_16 = cv.cvtColor(img_l, cv.COLOR_BGR2RGB)\n",
        "img_8 = np.zeros(img_16.shape, img_16.dtype)\n",
        "\n",
        "for y in range(0, img_16.shape[0]):\n",
        "  for x in range(0, img_16.shape[1]):\n",
        "    baru = warnaTerdekat(img_16[y, x, 0], img_16[y, x, 1], img_16[y, x, 2])\n",
        "    img_8[y, x] = warnaPallette[baru]\n",
        "    \n",
        "img_16 = cv.cvtColor(img_16, cv.COLOR_BGR2RGB)\n",
        "img_8 = cv.cvtColor(img_8, cv.COLOR_BGR2RGB)\n",
        "final_frame = cv.hconcat((img_16, img_8))\n",
        "cv2_imshow(final_frame)\n",
        "cv.imwrite('/content/drive/MyDrive/pcvk/img/test_lena.jpg', img_8)"
      ],
      "metadata": {
        "id": "nYUMAs2Idxj9"
      },
      "execution_count": null,
      "outputs": []
    }
  ]
}