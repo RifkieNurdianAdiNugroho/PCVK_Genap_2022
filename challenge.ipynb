{
  "nbformat": 4,
  "nbformat_minor": 0,
  "metadata": {
    "colab": {
      "name": "challenge.ipynb",
      "provenance": [],
      "authorship_tag": "ABX9TyPjYD+PXglfqPJ6swu4QiPH",
      "include_colab_link": true
    },
    "kernelspec": {
      "name": "python3",
      "display_name": "Python 3"
    },
    "language_info": {
      "name": "python"
    }
  },
  "cells": [
    {
      "cell_type": "markdown",
      "metadata": {
        "id": "view-in-github",
        "colab_type": "text"
      },
      "source": [
        "<a href=\"https://colab.research.google.com/github/RifkieNurdianAdiNugroho/PCVK_Genap_2022/blob/master/challenge.ipynb\" target=\"_parent\"><img src=\"https://colab.research.google.com/assets/colab-badge.svg\" alt=\"Open In Colab\"/></a>"
      ]
    },
    {
      "cell_type": "code",
      "execution_count": null,
      "metadata": {
        "colab": {
          "base_uri": "https://localhost:8080/"
        },
        "id": "zLstEkMiJQWN",
        "outputId": "f2bbb832-9352-4fd5-c7ff-23701267ff25"
      },
      "outputs": [
        {
          "output_type": "stream",
          "name": "stdout",
          "text": [
            "Matriks A :\n",
            "[[1 6 3]\n",
            " [1 4 6]\n",
            " [3 5 7]]\n",
            "Matriks B :\n",
            "[[ 1  2  2]\n",
            " [ 5  4  4]\n",
            " [ 8 10 11]]\n",
            "Perkalian Matriks : \n",
            "[[ 55  56  59]\n",
            " [ 69  78  84]\n",
            " [ 84  96 103]]\n"
          ]
        }
      ],
      "source": [
        "# Kode program menggunakan Matriks\n",
        "import numpy as np\n",
        "matriksA = np.array([[1,6,3],\n",
        "                     [1,4,6],\n",
        "                     [3,5,7]])\n",
        "matriksB = np.array([[1,2,2],\n",
        "                     [5,4,4],\n",
        "                     [8,10,11]]) \n",
        "\n",
        "perkalian_skalar = matriksA*matriksB\n",
        "\n",
        "print(\"Matriks A :\")\n",
        "print(matriksA)\n",
        "\n",
        "print(\"Matriks B :\")\n",
        "print(matriksB)\n",
        "\n",
        "perkalian_matriks = np.dot(matriksA,matriksB)\n",
        "\n",
        "print(\"Perkalian Matriks : \")\n",
        "print(perkalian_matriks)"
      ]
    },
    {
      "cell_type": "markdown",
      "source": [
        "Sumber belajar dari:https://ihzarizkyk.blogspot.com/2020/05/belajar-numpy-python-perkalian-matriks.html::"
      ],
      "metadata": {
        "id": "HNpZC7Nmq3XQ"
      }
    },
    {
      "cell_type": "code",
      "source": [
        "#Kode Program menggunakan Matriks Skalar\n",
        "matriksA = np.array([[1,2,4],\n",
        "                     [2,5,6],\n",
        "                     [3,4,1]])\n",
        "matriksB = np.array([[2,2,1],\n",
        "                     [3,1,2],\n",
        "                     [4,2,1]]) \n",
        "\n",
        "perkalian_skalar = matriksA*matriksB\n",
        "\n",
        "print(\"Matriks A :\")\n",
        "print(matriksA)\n",
        "\n",
        "print(\"Matriks B :\")\n",
        "print(matriksB)\n",
        "\n",
        "print(\"Perkalian Skalar Matriks : \")\n",
        "print(perkalian_skalar)"
      ],
      "metadata": {
        "id": "iAHrFTeiqm38",
        "outputId": "dfc24898-655b-411d-de3a-dadd4a3e872c",
        "colab": {
          "base_uri": "https://localhost:8080/"
        }
      },
      "execution_count": null,
      "outputs": [
        {
          "output_type": "stream",
          "name": "stdout",
          "text": [
            "Matriks A :\n",
            "[[1 2 4]\n",
            " [2 5 6]\n",
            " [3 4 1]]\n",
            "Matriks B :\n",
            "[[2 2 1]\n",
            " [3 1 2]\n",
            " [4 2 1]]\n",
            "Perkalian Skalar Matriks : \n",
            "[[ 2  4  4]\n",
            " [ 6  5 12]\n",
            " [12  8  1]]\n"
          ]
        }
      ]
    },
    {
      "cell_type": "code",
      "source": [
        "from google.colab import drive\n",
        "drive.mount('/content/drive')\n",
        "\n",
        "import matplotlib.image as image\n",
        "import numpy as np\n",
        "img=image.imread('/content/drive/MyDrive/kitten01.jpg')#membaca image dan melakukan image processing menggunakan import image.imread\n",
        "print(\"Matriks : \")\n",
        "print(img)#pemanggilan variabel img yang telah melalui image processing"
      ],
      "metadata": {
        "colab": {
          "base_uri": "https://localhost:8080/"
        },
        "id": "OhYx-LtM1V9a",
        "outputId": "7ffcd1b7-7ee2-4203-be4f-b16f7cd8748f"
      },
      "execution_count": 3,
      "outputs": [
        {
          "output_type": "stream",
          "name": "stdout",
          "text": [
            "Drive already mounted at /content/drive; to attempt to forcibly remount, call drive.mount(\"/content/drive\", force_remount=True).\n",
            "Matriks : \n",
            "[[[ 53 105   0]\n",
            "  [ 53 105   0]\n",
            "  [ 53 104   0]\n",
            "  ...\n",
            "  [ 43  85   3]\n",
            "  [ 42  81   2]\n",
            "  [ 41  79   2]]\n",
            "\n",
            " [[ 57 106   0]\n",
            "  [ 57 106   0]\n",
            "  [ 55 106   1]\n",
            "  ...\n",
            "  [ 44  86   4]\n",
            "  [ 44  83   4]\n",
            "  [ 42  80   3]]\n",
            "\n",
            " [[ 59 108   1]\n",
            "  [ 58 107   2]\n",
            "  [ 56 107   2]\n",
            "  ...\n",
            "  [ 46  88   6]\n",
            "  [ 45  84   5]\n",
            "  [ 43  81   4]]\n",
            "\n",
            " ...\n",
            "\n",
            " [[104 170  80]\n",
            "  [ 90 156  59]\n",
            "  [ 46 108   1]\n",
            "  ...\n",
            "  [ 71 127  18]\n",
            "  [ 71 127  16]\n",
            "  [ 74 130  19]]\n",
            "\n",
            " [[ 77 143  53]\n",
            "  [ 69 135  38]\n",
            "  [ 52 114   7]\n",
            "  ...\n",
            "  [ 62 118   9]\n",
            "  [ 63 119  10]\n",
            "  [ 66 122  11]]\n",
            "\n",
            " [[ 50 116  26]\n",
            "  [ 43 109  12]\n",
            "  [ 50 112   5]\n",
            "  ...\n",
            "  [ 53 109   2]\n",
            "  [ 55 111   2]\n",
            "  [ 59 115   6]]]\n"
          ]
        }
      ]
    },
    {
      "cell_type": "markdown",
      "source": [
        "Sumber Belajar dari:https://kopiding.in/membuat-matriks-pada-python/ & https://codepolitan.com/melakukan-operasi-matriks-di-python/"
      ],
      "metadata": {
        "id": "ljlI6lk22KIl"
      }
    }
  ]
}