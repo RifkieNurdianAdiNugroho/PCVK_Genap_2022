{
  "nbformat": 4,
  "nbformat_minor": 0,
  "metadata": {
    "colab": {
      "name": "challenge.ipynb",
      "provenance": [],
      "authorship_tag": "ABX9TyO6ocwjLk6RhF7ON8mf5noN",
      "include_colab_link": true
    },
    "kernelspec": {
      "name": "python3",
      "display_name": "Python 3"
    },
    "language_info": {
      "name": "python"
    }
  },
  "cells": [
    {
      "cell_type": "markdown",
      "metadata": {
        "id": "view-in-github",
        "colab_type": "text"
      },
      "source": [
        "<a href=\"https://colab.research.google.com/github/RifkieNurdianAdiNugroho/PCVK_Genap_2022/blob/master/challenge.ipynb\" target=\"_parent\"><img src=\"https://colab.research.google.com/assets/colab-badge.svg\" alt=\"Open In Colab\"/></a>"
      ]
    },
    {
      "cell_type": "code",
      "execution_count": null,
      "metadata": {
        "colab": {
          "base_uri": "https://localhost:8080/"
        },
        "id": "zLstEkMiJQWN",
        "outputId": "f2bbb832-9352-4fd5-c7ff-23701267ff25"
      },
      "outputs": [
        {
          "output_type": "stream",
          "name": "stdout",
          "text": [
            "Matriks A :\n",
            "[[1 6 3]\n",
            " [1 4 6]\n",
            " [3 5 7]]\n",
            "Matriks B :\n",
            "[[ 1  2  2]\n",
            " [ 5  4  4]\n",
            " [ 8 10 11]]\n",
            "Perkalian Matriks : \n",
            "[[ 55  56  59]\n",
            " [ 69  78  84]\n",
            " [ 84  96 103]]\n"
          ]
        }
      ],
      "source": [
        "# Kode program menggunakan Matriks\n",
        "import numpy as np\n",
        "matriksA = np.array([[1,6,3],\n",
        "                     [1,4,6],\n",
        "                     [3,5,7]])\n",
        "matriksB = np.array([[1,2,2],\n",
        "                     [5,4,4],\n",
        "                     [8,10,11]]) \n",
        "\n",
        "perkalian_skalar = matriksA*matriksB\n",
        "\n",
        "print(\"Matriks A :\")\n",
        "print(matriksA)\n",
        "\n",
        "print(\"Matriks B :\")\n",
        "print(matriksB)\n",
        "\n",
        "perkalian_matriks = np.dot(matriksA,matriksB)\n",
        "\n",
        "print(\"Perkalian Matriks : \")\n",
        "print(perkalian_matriks)"
      ]
    },
    {
      "cell_type": "markdown",
      "source": [
        "Sumber belajar dari:https://ihzarizkyk.blogspot.com/2020/05/belajar-numpy-python-perkalian-matriks.html::"
      ],
      "metadata": {
        "id": "HNpZC7Nmq3XQ"
      }
    },
    {
      "cell_type": "code",
      "source": [
        "#Kode Program menggunakan Matriks Skalar\n",
        "matriksA = np.array([[1,2,4],\n",
        "                     [2,5,6],\n",
        "                     [3,4,1]])\n",
        "matriksB = np.array([[2,2,1],\n",
        "                     [3,1,2],\n",
        "                     [4,2,1]]) \n",
        "\n",
        "perkalian_skalar = matriksA*matriksB\n",
        "\n",
        "print(\"Matriks A :\")\n",
        "print(matriksA)\n",
        "\n",
        "print(\"Matriks B :\")\n",
        "print(matriksB)\n",
        "\n",
        "print(\"Perkalian Skalar Matriks : \")\n",
        "print(perkalian_skalar)"
      ],
      "metadata": {
        "id": "iAHrFTeiqm38",
        "outputId": "dfc24898-655b-411d-de3a-dadd4a3e872c",
        "colab": {
          "base_uri": "https://localhost:8080/"
        }
      },
      "execution_count": null,
      "outputs": [
        {
          "output_type": "stream",
          "name": "stdout",
          "text": [
            "Matriks A :\n",
            "[[1 2 4]\n",
            " [2 5 6]\n",
            " [3 4 1]]\n",
            "Matriks B :\n",
            "[[2 2 1]\n",
            " [3 1 2]\n",
            " [4 2 1]]\n",
            "Perkalian Skalar Matriks : \n",
            "[[ 2  4  4]\n",
            " [ 6  5 12]\n",
            " [12  8  1]]\n"
          ]
        }
      ]
    },
    {
      "cell_type": "code",
      "source": [
        "from google.colab import drive\n",
        "drive.mount('/content/drive')\n",
        "\n",
        "import matplotlib.image as image\n",
        "import numpy as np\n",
        "img=image.imread('/content/drive/MyDrive/lily.jpg')\n",
        "print(\"Matriks : \")\n",
        "print(img)"
      ],
      "metadata": {
        "id": "OhYx-LtM1V9a",
        "outputId": "c56c12ee-b612-41c9-eb95-417d06f032c4",
        "colab": {
          "base_uri": "https://localhost:8080/"
        }
      },
      "execution_count": 2,
      "outputs": [
        {
          "output_type": "stream",
          "name": "stdout",
          "text": [
            "Drive already mounted at /content/drive; to attempt to forcibly remount, call drive.mount(\"/content/drive\", force_remount=True).\n",
            "Matriks : \n",
            "[[[255 255 255]\n",
            "  [255 255 255]\n",
            "  [255 255 255]\n",
            "  ...\n",
            "  [255 255 255]\n",
            "  [255 255 255]\n",
            "  [255 255 255]]\n",
            "\n",
            " [[255 255 255]\n",
            "  [255 255 255]\n",
            "  [255 255 255]\n",
            "  ...\n",
            "  [255 255 255]\n",
            "  [255 255 255]\n",
            "  [255 255 255]]\n",
            "\n",
            " [[255 255 255]\n",
            "  [255 255 255]\n",
            "  [255 255 255]\n",
            "  ...\n",
            "  [255 255 255]\n",
            "  [255 255 255]\n",
            "  [255 255 255]]\n",
            "\n",
            " ...\n",
            "\n",
            " [[255 255 255]\n",
            "  [255 255 255]\n",
            "  [255 255 255]\n",
            "  ...\n",
            "  [255 255 255]\n",
            "  [255 255 255]\n",
            "  [255 255 255]]\n",
            "\n",
            " [[255 255 255]\n",
            "  [255 255 255]\n",
            "  [255 255 255]\n",
            "  ...\n",
            "  [255 255 255]\n",
            "  [255 255 255]\n",
            "  [255 255 255]]\n",
            "\n",
            " [[255 255 255]\n",
            "  [255 255 255]\n",
            "  [255 255 255]\n",
            "  ...\n",
            "  [255 255 255]\n",
            "  [255 255 255]\n",
            "  [255 255 255]]]\n"
          ]
        }
      ]
    },
    {
      "cell_type": "markdown",
      "source": [
        "Sumber Belajar dari:https://kopiding.in/membuat-matriks-pada-python/ & https://codepolitan.com/melakukan-operasi-matriks-di-python/"
      ],
      "metadata": {
        "id": "ljlI6lk22KIl"
      }
    }
  ]
}