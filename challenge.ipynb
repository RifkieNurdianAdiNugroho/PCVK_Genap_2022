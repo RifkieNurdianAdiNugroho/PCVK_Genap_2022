{
  "nbformat": 4,
  "nbformat_minor": 0,
  "metadata": {
    "colab": {
      "name": "challenge.ipynb",
      "provenance": [],
      "authorship_tag": "ABX9TyNpfrsfmplSQxXPM8ugZpWd",
      "include_colab_link": true
    },
    "kernelspec": {
      "name": "python3",
      "display_name": "Python 3"
    },
    "language_info": {
      "name": "python"
    }
  },
  "cells": [
    {
      "cell_type": "markdown",
      "metadata": {
        "id": "view-in-github",
        "colab_type": "text"
      },
      "source": [
        "<a href=\"https://colab.research.google.com/github/RifkieNurdianAdiNugroho/PCVK_Genap_2022/blob/master/challenge.ipynb\" target=\"_parent\"><img src=\"https://colab.research.google.com/assets/colab-badge.svg\" alt=\"Open In Colab\"/></a>"
      ]
    },
    {
      "cell_type": "code",
      "execution_count": null,
      "metadata": {
        "colab": {
          "base_uri": "https://localhost:8080/"
        },
        "id": "zLstEkMiJQWN",
        "outputId": "2e6c996f-06a2-47ab-cda5-136ffb1cd14f"
      },
      "outputs": [
        {
          "output_type": "stream",
          "name": "stdout",
          "text": [
            "Matriks A :\n",
            "[[2 3]\n",
            " [6 3]]\n",
            "Matriks B :\n",
            "[[ 6  3]\n",
            " [ 8 10]]\n",
            "Perkalian Biasa Matriks : \n",
            "[[12  9]\n",
            " [48 30]]\n",
            "Perkalian Matriks Cara 1 : \n",
            "[[36 36]\n",
            " [60 48]]\n",
            "Perkalian Matriks Cara 2 : \n",
            "[[36 36]\n",
            " [60 48]]\n"
          ]
        }
      ],
      "source": [
        "# Kode program menggunakan Matriks\n",
        "import numpy as np\n",
        "\n",
        "matriksA = np.array([[2,3],\n",
        "                     [6,3]])\n",
        "matriksB = np.array([[6,3],\n",
        "                     [8,10]])   \n",
        "\n",
        "perkalian_biasa = matriksA*matriksB\n",
        "perkalian_matriks1 = np.dot(matriksA,matriksB)\n",
        "perkalian_matriks2 = matriksA.dot(matriksB)\n",
        "\n",
        "print(\"Matriks A :\")\n",
        "print(matriksA)\n",
        "\n",
        "print(\"Matriks B :\")\n",
        "print(matriksB)\n",
        "\n",
        "print(\"Perkalian Biasa Matriks : \")\n",
        "print(perkalian_biasa)\n",
        "\n",
        "print(\"Perkalian Matriks Cara 1 : \")\n",
        "print(perkalian_matriks1)\n",
        "\n",
        "print(\"Perkalian Matriks Cara 2 : \")\n",
        "print(perkalian_matriks2)"
      ]
    }
  ]
}