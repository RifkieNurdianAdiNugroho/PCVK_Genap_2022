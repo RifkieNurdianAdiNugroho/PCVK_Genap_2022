{
  "nbformat": 4,
  "nbformat_minor": 0,
  "metadata": {
    "colab": {
      "name": "week3.ipynb",
      "provenance": [],
      "authorship_tag": "ABX9TyMINx5zLUk0A+w7w0bMNv+b",
      "include_colab_link": true
    },
    "kernelspec": {
      "name": "python3",
      "display_name": "Python 3"
    },
    "language_info": {
      "name": "python"
    }
  },
  "cells": [
    {
      "cell_type": "markdown",
      "metadata": {
        "id": "view-in-github",
        "colab_type": "text"
      },
      "source": [
        "<a href=\"https://colab.research.google.com/github/RifkieNurdianAdiNugroho/PCVK_Genap_2022/blob/master/week3.ipynb\" target=\"_parent\"><img src=\"https://colab.research.google.com/assets/colab-badge.svg\" alt=\"Open In Colab\"/></a>"
      ]
    },
    {
      "cell_type": "code",
      "execution_count": 1,
      "metadata": {
        "id": "vBXz8bMddrat",
        "outputId": "1cbb7299-4480-46d8-bd5c-00d4fbe05451",
        "colab": {
          "base_uri": "https://localhost:8080/"
        }
      },
      "outputs": [
        {
          "output_type": "stream",
          "name": "stdout",
          "text": [
            "Mounted at /content/drive\n"
          ]
        }
      ],
      "source": [
        "from google.colab import drive\n",
        "\n",
        "drive.mount('/content/drive')"
      ]
    },
    {
      "cell_type": "code",
      "source": [
        "import cv2 as cv\n",
        "from google.colab.patches import cv2_imshow\n",
        "from skimage import io\n",
        "import matplotlib.pyplot as plt\n",
        "import numpy as np"
      ],
      "metadata": {
        "id": "Exopljf2hGtR"
      },
      "execution_count": 2,
      "outputs": []
    },
    {
      "cell_type": "code",
      "source": [
        "print(' Mengubah tingkat kecerahan citra dan kontras ')\n",
        "print('------------------------------------')\n",
        "try:\n",
        "  brightness = int(input('Masukkan nilai Kecerahan: '))\n",
        "  contrast = int(input('Masukkan nilai Kontras: '))\n",
        "except ValueError:\n",
        "  print('Error, not a number')\n",
        "\n",
        "original = cv.imread('/content/drive/MyDrive/female.tiff')\n",
        "brightness_image = np.zeros(original.shape, original.dtype)\n",
        "contrast_image = np.zeros(original.shape, original.dtype)\n",
        "\n",
        "#akses per piksel\n",
        "for y in range(original.shape[0]):\n",
        "  for x in range(original.shape[1]):\n",
        "    for c in range(original.shape[2]):\n",
        "      brightness_image[y,x,c] = np.clip(original[y,x,c] + brightness, 0, 255)\n",
        "       contrast_image = (259 * (contrast_image + 255)) / (255 * (259 - contrast_image))\n",
        "\n",
        "#cara single tanpa for loop\n",
        "#brightness_image = cv.convertScaleAbs(original, beta-brightness)\n",
        "\n",
        "final_frame = cv.hconcat((original, brightness_image, contrast_image))\n",
        "cv2_imshow(final_frame)"
      ],
      "metadata": {
        "id": "y-i6g7d0eS3F",
        "outputId": "1e7e8816-6917-4bc9-e8cf-0616d5d27b6b",
        "colab": {
          "base_uri": "https://localhost:8080/",
          "height": 130
        }
      },
      "execution_count": 7,
      "outputs": [
        {
          "output_type": "error",
          "ename": "IndentationError",
          "evalue": "ignored",
          "traceback": [
            "\u001b[0;36m  File \u001b[0;32m\"<ipython-input-7-b5b74986198b>\"\u001b[0;36m, line \u001b[0;32m18\u001b[0m\n\u001b[0;31m    contrast_image = (259 * (contrast_image + 255)) / (255 * (259 - contrast_image))\u001b[0m\n\u001b[0m    ^\u001b[0m\n\u001b[0;31mIndentationError\u001b[0m\u001b[0;31m:\u001b[0m unexpected indent\n"
          ]
        }
      ]
    },
    {
      "cell_type": "code",
      "source": [
        ""
      ],
      "metadata": {
        "id": "yu6dkNRMhRyM"
      },
      "execution_count": null,
      "outputs": []
    }
  ]
}