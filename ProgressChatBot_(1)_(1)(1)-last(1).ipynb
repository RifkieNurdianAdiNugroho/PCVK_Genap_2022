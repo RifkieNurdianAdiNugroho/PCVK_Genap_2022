{
  "nbformat": 4,
  "nbformat_minor": 0,
  "metadata": {
    "colab": {
      "name": "ProgressChatBot_(1) (1).ipynb",
      "provenance": [],
      "collapsed_sections": []
    },
    "kernelspec": {
      "name": "python3",
      "display_name": "Python 3"
    },
    "language_info": {
      "name": "python"
    }
  },
  "cells": [
    {
      "cell_type": "code",
      "metadata": {
        "id": "WMaqIkNjsbAL"
      },
      "source": [
        "import re\n",
        "import pandas as pd\n",
        "from sklearn.feature_extraction.text import CountVectorizer\n",
        "from collections import Counter"
      ],
      "execution_count": 8,
      "outputs": []
    },
    {
      "cell_type": "code",
      "metadata": {
        "id": "0BhgyCn_qw31",
        "outputId": "27725466-07e3-48c0-85d1-974f25d6ff46",
        "colab": {
          "base_uri": "https://localhost:8080/"
        }
      },
      "source": [
        "from google.colab import drive\n",
        "drive.mount('/content/drive')"
      ],
      "execution_count": 9,
      "outputs": [
        {
          "output_type": "stream",
          "text": [
            "Drive already mounted at /content/drive; to attempt to forcibly remount, call drive.mount(\"/content/drive\", force_remount=True).\n"
          ],
          "name": "stdout"
        }
      ]
    },
    {
      "cell_type": "code",
      "metadata": {
        "id": "_RKnxFS5tJdA"
      },
      "source": [
        "#### Read_Data\n",
        "data=pd.read_csv(\"/content/drive/MyDrive/Colab Notebooks/DataArtikel.csv\",encoding = \"ISO-8859-1\")"
      ],
      "execution_count": 10,
      "outputs": []
    },
    {
      "cell_type": "code",
      "metadata": {
        "id": "P7WLJu0Lt0E5",
        "colab": {
          "base_uri": "https://localhost:8080/"
        },
        "outputId": "6b66aaba-6d69-423f-80a6-57c8b0481bcd"
      },
      "source": [
        "#### Visualize your data\n",
        "print(\"Let's explore our word set\",data[\"Word\"])\n",
        "print(\"length of training set\",len(data[\"Word\"]))\n",
        "print(\"Unique answers are\",set(data[\"Type\"]),\"and number of unique answers are\",len(set(data[\"Type\"])))"
      ],
      "execution_count": 11,
      "outputs": [
        {
          "output_type": "stream",
          "text": [
            "Let's explore our word set 0             Virus\n",
            "1            Corona\n",
            "2            adalah\n",
            "3             jenis\n",
            "4              baru\n",
            "           ...     \n",
            "101          berat,\n",
            "102         seperti\n",
            "103         infeksi\n",
            "104       paru-paru\n",
            "105    (penumonia).\n",
            "Name: Word, Length: 106, dtype: object\n",
            "length of training set 106\n",
            "Unique answers are {'pronomina', 'homonim', 'nomina', 'verba', 'adjektiva', 'konjungsi', 'adverbial', 'numeralia'} and number of unique answers are 8\n"
          ],
          "name": "stdout"
        }
      ]
    },
    {
      "cell_type": "code",
      "metadata": {
        "id": "KQkR20KGsxzo"
      },
      "source": [
        "import matplotlib.pyplot as plt\n",
        "from wordcloud import WordCloud\n",
        "\n",
        "def show_wordcloud(data, title = None):\n",
        "  wordcloud = WordCloud(background_color='black',).generate(str(data))\n",
        "\n",
        "  fig = plt.figure(1, figsize=(12, 12))\n",
        "  plt.axis('off')\n",
        "  plt.imshow(wordcloud)\n",
        "  plt.show()"
      ],
      "execution_count": 12,
      "outputs": []
    },
    {
      "cell_type": "code",
      "metadata": {
        "id": "Ci-Be769xqES",
        "colab": {
          "base_uri": "https://localhost:8080/"
        },
        "outputId": "97a23608-92a8-4816-ac57-7b0874ece5d6"
      },
      "source": [
        "word_list=[]\n",
        "list_word=list(data[\"Word\"])\n",
        "print(list_word)\n",
        "for sentence in list_word:\n",
        "  words_sentence=sentence.split()\n",
        "  for words in words_sentence:\n",
        "    word_list.append(words)\n",
        "\n",
        "word_list=[word for sentence in list(data[\"Word\"]) for word in sentence.split()]"
      ],
      "execution_count": 13,
      "outputs": [
        {
          "output_type": "stream",
          "text": [
            "['Virus', 'Corona', 'adalah', 'jenis', 'baru', 'dari', 'coronavirus', 'yang', 'menular', 'ke', 'manusia. ', 'Virus', 'ini', 'bisa', 'menyerang', 'siapa', 'saja, ', 'seperti', 'lansia', '(golongan ', 'usia', 'lanjut), ', 'orang', 'dewasa, ', 'anak-anak, ', 'dan', 'bayi, ', 'termasuk', 'ibu', 'hamil', 'dan', 'ibu', 'menyusui. ', 'Infeksi', 'virus ', 'Corona', 'disebut', 'COVID-19 ', '(Corona', 'Virus', 'Disease', '2019) ', 'dan', 'pertama', 'kali', 'ditemukan', 'di', 'kota', 'Wuhan, ', 'China', 'pada', 'akhir', 'Desember', '2019', 'Virus', 'ini', 'menular', 'dengan', 'sangat', 'cepat', 'dan', 'telah', 'menyebar', 'ke', 'hampir', 'semua', 'negara, ', 'termasuk', 'Indonesia, ', 'hanya ', 'dalam', 'waktu', 'beberapa', 'bulan.', 'Coronavirus', 'adalah ', 'kumpulan', 'virus', 'yang', 'bisa', 'menginfeksi', 'pernapasan.', 'Pada', 'banyak', 'kasus,', 'virus', 'ini', 'hanya ', 'menyebabkan', 'infeksi', 'pernapasan,', 'seperti', 'flu.', 'Namun,', 'virus', 'ini', 'juga', 'bisa', 'menyebabkan', 'infeksi', 'pernapasan', 'berat,', 'seperti', 'infeksi', 'paru-paru', '(penumonia).']\n"
          ],
          "name": "stdout"
        }
      ]
    },
    {
      "cell_type": "code",
      "metadata": {
        "id": "ZUeGiy4ty9Rr",
        "colab": {
          "base_uri": "https://localhost:8080/"
        },
        "outputId": "0b1809bc-fd41-45c2-dbff-f67b179ac5bd"
      },
      "source": [
        "#### Now ler's find the frequency of each word and the most common words in the corpus\n",
        "frequency=Counter(word_list)\n",
        "print(frequency)\n",
        "print(frequency.most_common(5))"
      ],
      "execution_count": 14,
      "outputs": [
        {
          "output_type": "stream",
          "text": [
            "Counter({'Virus': 4, 'ini': 4, 'dan': 4, 'virus': 4, 'bisa': 3, 'seperti': 3, 'infeksi': 3, 'Corona': 2, 'adalah': 2, 'yang': 2, 'menular': 2, 'ke': 2, 'termasuk': 2, 'ibu': 2, 'hanya': 2, 'menyebabkan': 2, 'jenis': 1, 'baru': 1, 'dari': 1, 'coronavirus': 1, 'manusia.': 1, 'menyerang': 1, 'siapa': 1, 'saja,': 1, 'lansia': 1, '(golongan': 1, 'usia': 1, 'lanjut),': 1, 'orang': 1, 'dewasa,': 1, 'anak-anak,': 1, 'bayi,': 1, 'hamil': 1, 'menyusui.': 1, 'Infeksi': 1, 'disebut': 1, 'COVID-19': 1, '(Corona': 1, 'Disease': 1, '2019)': 1, 'pertama': 1, 'kali': 1, 'ditemukan': 1, 'di': 1, 'kota': 1, 'Wuhan,': 1, 'China': 1, 'pada': 1, 'akhir': 1, 'Desember': 1, '2019': 1, 'dengan': 1, 'sangat': 1, 'cepat': 1, 'telah': 1, 'menyebar': 1, 'hampir': 1, 'semua': 1, 'negara,': 1, 'Indonesia,': 1, 'dalam': 1, 'waktu': 1, 'beberapa': 1, 'bulan.': 1, 'Coronavirus': 1, 'kumpulan': 1, 'menginfeksi': 1, 'pernapasan.': 1, 'Pada': 1, 'banyak': 1, 'kasus,': 1, 'pernapasan,': 1, 'flu.': 1, 'Namun,': 1, 'juga': 1, 'pernapasan': 1, 'berat,': 1, 'paru-paru': 1, '(penumonia).': 1})\n",
            "[('Virus', 4), ('ini', 4), ('dan', 4), ('virus', 4), ('bisa', 3)]\n"
          ],
          "name": "stdout"
        }
      ]
    },
    {
      "cell_type": "code",
      "metadata": {
        "id": "PlrxDzjp0g1L",
        "colab": {
          "base_uri": "https://localhost:8080/",
          "height": 265
        },
        "outputId": "dda70ef6-4628-4796-d164-d10f97464ab9"
      },
      "source": [
        "import numpy as np\n",
        "\n",
        "labels,values = zip(*frequency.items())\n",
        "labels=[]\n",
        "values=[]\n",
        "for T in frequency.most_common(5):\n",
        "  labels.append(T[0])\n",
        "  values.append(T[1])\n",
        "\n",
        "indexes = np.arange(len(labels))\n",
        "width = 1\n",
        "\n",
        "plt.bar(indexes, values, width)\n",
        "plt.xticks(indexes + width * 0.05, labels)\n",
        "plt.show()"
      ],
      "execution_count": 15,
      "outputs": [
        {
          "output_type": "display_data",
          "data": {
            "image/png": "[encoded data removed]",
            "text/plain": [
              "<Figure size 432x288 with 1 Axes>"
            ]
          },
          "metadata": {
            "tags": [],
            "needs_background": "light"
          }
        }
      ]
    },
    {
      "cell_type": "code",
      "metadata": {
        "id": "927S4_542teq",
        "colab": {
          "base_uri": "https://localhost:8080/"
        },
        "outputId": "8eece18d-01fe-4a8b-dc3d-fa42c9849633"
      },
      "source": [
        "### Remove puntuations and change words to lower case\n",
        "def remove_punctuations(text):\n",
        "  words=[word.lower()for word in text.split()]\n",
        "  words=[w for word in words for w in re.sub(r'[^\\w\\s]','',word).split()]\n",
        "  return words\n",
        "\n",
        "data[\"word_punctuation_removed\"]=data[\"Word\"].apply(remove_punctuations)\n",
        "print(data[\"word_punctuation_removed\"])"
      ],
      "execution_count": 16,
      "outputs": [
        {
          "output_type": "stream",
          "text": [
            "0          [virus]\n",
            "1         [corona]\n",
            "2         [adalah]\n",
            "3          [jenis]\n",
            "4           [baru]\n",
            "          ...     \n",
            "101        [berat]\n",
            "102      [seperti]\n",
            "103      [infeksi]\n",
            "104     [paruparu]\n",
            "105    [penumonia]\n",
            "Name: word_punctuation_removed, Length: 106, dtype: object\n"
          ],
          "name": "stdout"
        }
      ]
    },
    {
      "cell_type": "code",
      "metadata": {
        "colab": {
          "base_uri": "https://localhost:8080/"
        },
        "id": "Frpv3ctFxvwH",
        "outputId": "ad4a0b97-cbdd-4295-c1e3-847ab1a82a8f"
      },
      "source": [
        "pip install Sastrawi"
      ],
      "execution_count": 17,
      "outputs": [
        {
          "output_type": "stream",
          "text": [
            "Requirement already satisfied: Sastrawi in /usr/local/lib/python3.7/dist-packages (1.0.1)\n"
          ],
          "name": "stdout"
        }
      ]
    },
    {
      "cell_type": "code",
      "metadata": {
        "id": "i2VPrzMF4LO3"
      },
      "source": [
        "# import StopWordRemoverFactory class \n",
        "from Sastrawi.StopWordRemover.StopWordRemoverFactory import StopWordRemoverFactory"
      ],
      "execution_count": 19,
      "outputs": []
    },
    {
      "cell_type": "code",
      "metadata": {
        "id": "bnWKVzaN5GQv",
        "colab": {
          "base_uri": "https://localhost:8080/"
        },
        "outputId": "d9e6bac2-c93a-4d1e-85d5-823bb44a6296"
      },
      "source": [
        "### Remove Stopwords\n",
        "factory = StopWordRemoverFactory()\n",
        "stop = factory.get_stop_words()\n",
        "print(stop)\n",
        "def remove_stopwords(text):\n",
        "  modified_word_list=[word for word in text if word not in stop]\n",
        "  return modified_word_list\n",
        "\n",
        "data[\"word_stopword_removed\"]=data[\"word_punctuation_removed\"].apply(remove_stopwords)\n",
        "print(data[\"word_stopword_removed\"])"
      ],
      "execution_count": 20,
      "outputs": [
        {
          "output_type": "stream",
          "text": [
            "['yang', 'untuk', 'pada', 'ke', 'para', 'namun', 'menurut', 'antara', 'dia', 'dua', 'ia', 'seperti', 'jika', 'jika', 'sehingga', 'kembali', 'dan', 'tidak', 'ini', 'karena', 'kepada', 'oleh', 'saat', 'harus', 'sementara', 'setelah', 'belum', 'kami', 'sekitar', 'bagi', 'serta', 'di', 'dari', 'telah', 'sebagai', 'masih', 'hal', 'ketika', 'adalah', 'itu', 'dalam', 'bisa', 'bahwa', 'atau', 'hanya', 'kita', 'dengan', 'akan', 'juga', 'ada', 'mereka', 'sudah', 'saya', 'terhadap', 'secara', 'agar', 'lain', 'anda', 'begitu', 'mengapa', 'kenapa', 'yaitu', 'yakni', 'daripada', 'itulah', 'lagi', 'maka', 'tentang', 'demi', 'dimana', 'kemana', 'pula', 'sambil', 'sebelum', 'sesudah', 'supaya', 'guna', 'kah', 'pun', 'sampai', 'sedangkan', 'selagi', 'sementara', 'tetapi', 'apakah', 'kecuali', 'sebab', 'selain', 'seolah', 'seraya', 'seterusnya', 'tanpa', 'agak', 'boleh', 'dapat', 'dsb', 'dst', 'dll', 'dahulu', 'dulunya', 'anu', 'demikian', 'tapi', 'ingin', 'juga', 'nggak', 'mari', 'nanti', 'melainkan', 'oh', 'ok', 'seharusnya', 'sebetulnya', 'setiap', 'setidaknya', 'sesuatu', 'pasti', 'saja', 'toh', 'ya', 'walau', 'tolong', 'tentu', 'amat', 'apalagi', 'bagaimanapun']\n",
            "0          [virus]\n",
            "1         [corona]\n",
            "2               []\n",
            "3          [jenis]\n",
            "4           [baru]\n",
            "          ...     \n",
            "101        [berat]\n",
            "102             []\n",
            "103      [infeksi]\n",
            "104     [paruparu]\n",
            "105    [penumonia]\n",
            "Name: word_stopword_removed, Length: 106, dtype: object\n"
          ],
          "name": "stdout"
        }
      ]
    },
    {
      "cell_type": "code",
      "metadata": {
        "id": "p2vFY-846SNU",
        "colab": {
          "base_uri": "https://localhost:8080/"
        },
        "outputId": "0e472b55-1c92-4d22-c0c4-77f3f1a593b6"
      },
      "source": [
        "def negation_handling(words):\n",
        "  counter=False\n",
        "  wlist=[]\n",
        "  negations=[\"tidak\",\"tak\",\"tanpa\",\"bukan\"]\n",
        "  #for words in wordlist:\n",
        "  for i,j in enumerate(words):\n",
        "    if j in negations and i<len(words)-1:\n",
        "      wlist.append(str(words[i]+'-'+words[i+1]))\n",
        "      counter=True\n",
        "    else:\n",
        "        if counter is False:\n",
        "          wlist.append(words[i])\n",
        "        else:\n",
        "            counter=False\n",
        "    return wlist\n",
        "\n",
        "data[\"word_negated\"]=data[\"word_punctuation_removed\"].apply(negation_handling)\n",
        "print(data[\"word_negated\"])\n"
      ],
      "execution_count": 21,
      "outputs": [
        {
          "output_type": "stream",
          "text": [
            "0          [virus]\n",
            "1         [corona]\n",
            "2         [adalah]\n",
            "3          [jenis]\n",
            "4           [baru]\n",
            "          ...     \n",
            "101        [berat]\n",
            "102      [seperti]\n",
            "103      [infeksi]\n",
            "104     [paruparu]\n",
            "105    [penumonia]\n",
            "Name: word_negated, Length: 106, dtype: object\n"
          ],
          "name": "stdout"
        }
      ]
    },
    {
      "cell_type": "code",
      "metadata": {
        "id": "iWDLvl1KrZYj",
        "outputId": "a726cc05-dba7-47a6-c198-f22464d10d83",
        "colab": {
          "base_uri": "https://localhost:8080/"
        }
      },
      "source": [
        "pip install nltk"
      ],
      "execution_count": 22,
      "outputs": [
        {
          "output_type": "stream",
          "text": [
            "Requirement already satisfied: nltk in /usr/local/lib/python3.7/dist-packages (3.2.5)\n",
            "Requirement already satisfied: six in /usr/local/lib/python3.7/dist-packages (from nltk) (1.15.0)\n"
          ],
          "name": "stdout"
        }
      ]
    },
    {
      "cell_type": "code",
      "metadata": {
        "id": "6OAqK7DdreGG"
      },
      "source": [
        "import nltk"
      ],
      "execution_count": 23,
      "outputs": []
    },
    {
      "cell_type": "code",
      "metadata": {
        "colab": {
          "base_uri": "https://localhost:8080/"
        },
        "id": "ckaOopcgqCEH",
        "outputId": "24430837-dc90-481c-ffee-f62d588005fb"
      },
      "source": [
        " nltk.download('averaged_perceptron_tagger')"
      ],
      "execution_count": 24,
      "outputs": [
        {
          "output_type": "stream",
          "text": [
            "[nltk_data] Downloading package averaged_perceptron_tagger to\n",
            "[nltk_data]     /root/nltk_data...\n",
            "[nltk_data]   Package averaged_perceptron_tagger is already up-to-\n",
            "[nltk_data]       date!\n"
          ],
          "name": "stdout"
        },
        {
          "output_type": "execute_result",
          "data": {
            "text/plain": [
              "True"
            ]
          },
          "metadata": {
            "tags": []
          },
          "execution_count": 24
        }
      ]
    },
    {
      "cell_type": "code",
      "metadata": {
        "id": "fi4Bvmuv8wh8",
        "colab": {
          "base_uri": "https://localhost:8080/"
        },
        "outputId": "794e892a-35aa-4965-b086-853da61d4bd0"
      },
      "source": [
        "from nltk.tag import pos_tag\n",
        "\n",
        "\n",
        "def descriptive_words(words):\n",
        "  meaningful_words=[]\n",
        "  tags=['VB','VBP','VBD','VBG','VBN','JJ','JJR','JJS','RB','RBR','RBS','UH','NN','NNP']\n",
        "  tagged_word=pos_tag(words)\n",
        "  for word in tagged_word:\n",
        "    if word[1] in tags:\n",
        "      meaningful_words.append(word[0])\n",
        "    return meaningful_words\n",
        "data[\"word_descriptive\"]=data[\"word_negated\"].apply(descriptive_words)\n",
        "print(data[\"word_descriptive\"])"
      ],
      "execution_count": 25,
      "outputs": [
        {
          "output_type": "stream",
          "text": [
            "0          [virus]\n",
            "1         [corona]\n",
            "2         [adalah]\n",
            "3          [jenis]\n",
            "4           [baru]\n",
            "          ...     \n",
            "101        [berat]\n",
            "102      [seperti]\n",
            "103      [infeksi]\n",
            "104     [paruparu]\n",
            "105    [penumonia]\n",
            "Name: word_descriptive, Length: 106, dtype: object\n"
          ],
          "name": "stdout"
        }
      ]
    },
    {
      "cell_type": "code",
      "metadata": {
        "id": "YN0agMaj-5-8",
        "colab": {
          "base_uri": "https://localhost:8080/"
        },
        "outputId": "e8afd382-63b0-4f3e-f4d1-a6d6b4123923"
      },
      "source": [
        "### streaming of words \n",
        "from Sastrawi.Stemmer.StemmerFactory import StemmerFactory\n",
        "st=StemmerFactory()\n",
        "stemmer = st.create_stemmer()\n",
        "def Stemming(text):\n",
        "  stemmed_words=[stemmer.stem(word)for word in text]\n",
        "  return stemmed_words\n",
        "\n",
        "data[\"word_stemmed\"]=data[\"word_descriptive\"].apply(Stemming)\n",
        "print(data[\"word_stemmed\"])"
      ],
      "execution_count": 26,
      "outputs": [
        {
          "output_type": "stream",
          "text": [
            "0          [virus]\n",
            "1         [corona]\n",
            "2         [adalah]\n",
            "3          [jenis]\n",
            "4           [baru]\n",
            "          ...     \n",
            "101        [berat]\n",
            "102      [seperti]\n",
            "103      [infeksi]\n",
            "104     [paruparu]\n",
            "105    [penumonia]\n",
            "Name: word_stemmed, Length: 106, dtype: object\n"
          ],
          "name": "stdout"
        }
      ]
    },
    {
      "cell_type": "code",
      "metadata": {
        "colab": {
          "base_uri": "https://localhost:8080/"
        },
        "id": "kEfAKT1gFYmL",
        "outputId": "bf81b3af-af30-4dca-d945-a6c1fb27701f"
      },
      "source": [
        "## Recreating the sentence\n",
        "def Recreate(text):\n",
        "  word=\" \".join(text)\n",
        "  return word\n",
        "\n",
        "data[\"modified_sentence\"]=data[\"word_stemmed\"].apply(Recreate)\n",
        "print (data[\"modified_sentence\"])"
      ],
      "execution_count": 27,
      "outputs": [
        {
          "output_type": "stream",
          "text": [
            "0          virus\n",
            "1         corona\n",
            "2         adalah\n",
            "3          jenis\n",
            "4           baru\n",
            "         ...    \n",
            "101        berat\n",
            "102      seperti\n",
            "103      infeksi\n",
            "104     paruparu\n",
            "105    penumonia\n",
            "Name: modified_sentence, Length: 106, dtype: object\n"
          ],
          "name": "stdout"
        }
      ]
    },
    {
      "cell_type": "code",
      "metadata": {
        "id": "7SUJJz13GXo0",
        "colab": {
          "base_uri": "https://localhost:8080/"
        },
        "outputId": "dccc1e16-d226-4ac3-8985-a4257f8df363"
      },
      "source": [
        "def Cleaning(text):\n",
        "  text_punctuation_removed=remove_punctuations(text)\n",
        "  text_unnegated=negation_handling(text_punctuation_removed)\n",
        "  text_descriptive=descriptive_words(text_unnegated)\n",
        "  text_stemmed=Stemming(text_descriptive)\n",
        "  final_text=Recreate(text_stemmed)\n",
        "  return final_text\n",
        "\n",
        "data[\"modified_sentence\"]=data[\"Word\"].apply(Cleaning)\n",
        "print (data[\"modified_sentence\"])"
      ],
      "execution_count": 28,
      "outputs": [
        {
          "output_type": "stream",
          "text": [
            "0          virus\n",
            "1         corona\n",
            "2         adalah\n",
            "3          jenis\n",
            "4           baru\n",
            "         ...    \n",
            "101        berat\n",
            "102      seperti\n",
            "103      infeksi\n",
            "104     paruparu\n",
            "105    penumonia\n",
            "Name: modified_sentence, Length: 106, dtype: object\n"
          ],
          "name": "stdout"
        }
      ]
    },
    {
      "cell_type": "code",
      "metadata": {
        "colab": {
          "base_uri": "https://localhost:8080/"
        },
        "id": "1vAkUEujq89t",
        "outputId": "61b59908-795d-4e53-abb2-1f2ff16ce064"
      },
      "source": [
        "pip install --user --install-option=\"--prefix=\" -U scikit-learn"
      ],
      "execution_count": 29,
      "outputs": [
        {
          "output_type": "stream",
          "text": [
            "/usr/local/lib/python3.7/dist-packages/pip/_internal/commands/install.py:283: UserWarning: Disabling all use of wheels due to the use of --build-options / --global-options / --install-options.\n",
            "  cmdoptions.check_install_build_global(options)\n",
            "Requirement already up-to-date: scikit-learn in /usr/local/lib/python3.7/dist-packages (0.24.2)\n",
            "Requirement already satisfied, skipping upgrade: numpy>=1.13.3 in /usr/local/lib/python3.7/dist-packages (from scikit-learn) (1.19.5)\n",
            "Requirement already satisfied, skipping upgrade: joblib>=0.11 in /usr/local/lib/python3.7/dist-packages (from scikit-learn) (1.0.1)\n",
            "Requirement already satisfied, skipping upgrade: scipy>=0.19.1 in /usr/local/lib/python3.7/dist-packages (from scikit-learn) (1.4.1)\n",
            "Requirement already satisfied, skipping upgrade: threadpoolctl>=2.0.0 in /usr/local/lib/python3.7/dist-packages (from scikit-learn) (2.1.0)\n"
          ],
          "name": "stdout"
        }
      ]
    },
    {
      "cell_type": "code",
      "metadata": {
        "colab": {
          "base_uri": "https://localhost:8080/",
          "height": 331
        },
        "id": "IZ5K6wdluULB",
        "outputId": "b04bacfa-79a8-4930-cae6-8631f4916663"
      },
      "source": [
        "pip install \"scikit_learn==0.22.2.post1\""
      ],
      "execution_count": 30,
      "outputs": [
        {
          "output_type": "stream",
          "text": [
            "Collecting scikit_learn==0.22.2.post1\n",
            "\u001b[?25l  Downloading https://files.pythonhosted.org/packages/41/b6/126263db075fbcc79107749f906ec1c7639f69d2d017807c6574792e517e/scikit_learn-0.22.2.post1-cp37-cp37m-manylinux1_x86_64.whl (7.1MB)\n",
            "\u001b[K     |████████████████████████████████| 7.1MB 4.3MB/s \n",
            "\u001b[?25hRequirement already satisfied: joblib>=0.11 in /usr/local/lib/python3.7/dist-packages (from scikit_learn==0.22.2.post1) (1.0.1)\n",
            "Requirement already satisfied: numpy>=1.11.0 in /usr/local/lib/python3.7/dist-packages (from scikit_learn==0.22.2.post1) (1.19.5)\n",
            "Requirement already satisfied: scipy>=0.17.0 in /usr/local/lib/python3.7/dist-packages (from scikit_learn==0.22.2.post1) (1.4.1)\n",
            "Installing collected packages: scikit-learn\n",
            "  Found existing installation: scikit-learn 0.24.2\n",
            "    Uninstalling scikit-learn-0.24.2:\n",
            "      Successfully uninstalled scikit-learn-0.24.2\n",
            "Successfully installed scikit-learn-0.22.2.post1\n"
          ],
          "name": "stdout"
        },
        {
          "output_type": "display_data",
          "data": {
            "application/vnd.colab-display-data+json": {
              "pip_warning": {
                "packages": [
                  "sklearn"
                ]
              }
            }
          },
          "metadata": {
            "tags": []
          }
        }
      ]
    },
    {
      "cell_type": "code",
      "metadata": {
        "colab": {
          "base_uri": "https://localhost:8080/"
        },
        "id": "MLMV8tJEubrS",
        "outputId": "935c0e95-3421-42de-b9e5-bccb9fdbc9fe"
      },
      "source": [
        "pip install scikit_learn"
      ],
      "execution_count": 31,
      "outputs": [
        {
          "output_type": "stream",
          "text": [
            "Requirement already satisfied: scikit_learn in /usr/local/lib/python3.7/dist-packages (0.22.2.post1)\n",
            "Requirement already satisfied: numpy>=1.11.0 in /usr/local/lib/python3.7/dist-packages (from scikit_learn) (1.19.5)\n",
            "Requirement already satisfied: scipy>=0.17.0 in /usr/local/lib/python3.7/dist-packages (from scikit_learn) (1.4.1)\n",
            "Requirement already satisfied: joblib>=0.11 in /usr/local/lib/python3.7/dist-packages (from scikit_learn) (1.0.1)\n"
          ],
          "name": "stdout"
        }
      ]
    },
    {
      "cell_type": "code",
      "metadata": {
        "colab": {
          "base_uri": "https://localhost:8080/",
          "height": 331
        },
        "id": "81D3a50nwkoj",
        "outputId": "a1cf5992-cf90-4924-dcf9-4ff607ff58a5"
      },
      "source": [
        "pip install -U scikit-learn"
      ],
      "execution_count": 32,
      "outputs": [
        {
          "output_type": "stream",
          "text": [
            "Collecting scikit-learn\n",
            "  Using cached https://files.pythonhosted.org/packages/a8/eb/a48f25c967526b66d5f1fa7a984594f0bf0a5afafa94a8c4dbc317744620/scikit_learn-0.24.2-cp37-cp37m-manylinux2010_x86_64.whl\n",
            "Requirement already satisfied, skipping upgrade: scipy>=0.19.1 in /usr/local/lib/python3.7/dist-packages (from scikit-learn) (1.4.1)\n",
            "Requirement already satisfied, skipping upgrade: threadpoolctl>=2.0.0 in /usr/local/lib/python3.7/dist-packages (from scikit-learn) (2.1.0)\n",
            "Requirement already satisfied, skipping upgrade: numpy>=1.13.3 in /usr/local/lib/python3.7/dist-packages (from scikit-learn) (1.19.5)\n",
            "Requirement already satisfied, skipping upgrade: joblib>=0.11 in /usr/local/lib/python3.7/dist-packages (from scikit-learn) (1.0.1)\n",
            "Installing collected packages: scikit-learn\n",
            "  Found existing installation: scikit-learn 0.22.2.post1\n",
            "    Uninstalling scikit-learn-0.22.2.post1:\n",
            "      Successfully uninstalled scikit-learn-0.22.2.post1\n",
            "Successfully installed scikit-learn-0.24.2\n"
          ],
          "name": "stdout"
        },
        {
          "output_type": "display_data",
          "data": {
            "application/vnd.colab-display-data+json": {
              "pip_warning": {
                "packages": [
                  "sklearn"
                ]
              }
            }
          },
          "metadata": {
            "tags": []
          }
        }
      ]
    },
    {
      "cell_type": "code",
      "metadata": {
        "id": "SLVE_EA2xqE7",
        "outputId": "96504c8d-6973-41d7-fdb2-09c34586c71d",
        "colab": {
          "base_uri": "https://localhost:8080/"
        }
      },
      "source": [
        "pip install --user --install-option=\"--prefix=\" -U scikit-learn"
      ],
      "execution_count": 33,
      "outputs": [
        {
          "output_type": "stream",
          "text": [
            "/usr/local/lib/python3.7/dist-packages/pip/_internal/commands/install.py:283: UserWarning: Disabling all use of wheels due to the use of --build-options / --global-options / --install-options.\n",
            "  cmdoptions.check_install_build_global(options)\n",
            "Requirement already up-to-date: scikit-learn in /usr/local/lib/python3.7/dist-packages (0.24.2)\n",
            "Requirement already satisfied, skipping upgrade: joblib>=0.11 in /usr/local/lib/python3.7/dist-packages (from scikit-learn) (1.0.1)\n",
            "Requirement already satisfied, skipping upgrade: scipy>=0.19.1 in /usr/local/lib/python3.7/dist-packages (from scikit-learn) (1.4.1)\n",
            "Requirement already satisfied, skipping upgrade: numpy>=1.13.3 in /usr/local/lib/python3.7/dist-packages (from scikit-learn) (1.19.5)\n",
            "Requirement already satisfied, skipping upgrade: threadpoolctl>=2.0.0 in /usr/local/lib/python3.7/dist-packages (from scikit-learn) (2.1.0)\n"
          ],
          "name": "stdout"
        }
      ]
    },
    {
      "cell_type": "code",
      "metadata": {
        "id": "924ZyUV_HM3t",
        "colab": {
          "base_uri": "https://localhost:8080/"
        },
        "outputId": "4a141e01-cd54-4635-865e-2885a9b65116"
      },
      "source": [
        "## Change the sentence into a bag of word model\n",
        "from sklearn.feature_extraction.text import CountVectorizer\n",
        "vectorizer = CountVectorizer()\n",
        "X = vectorizer.fit_transform(data[\"Word\"]).toarray()\n",
        "print(X)\n",
        "print(vectorizer.get_feature_names())"
      ],
      "execution_count": 34,
      "outputs": [
        {
          "output_type": "stream",
          "text": [
            "[[0 0 0 ... 0 0 0]\n",
            " [0 0 0 ... 0 0 0]\n",
            " [0 0 1 ... 0 0 0]\n",
            " ...\n",
            " [0 0 0 ... 0 0 0]\n",
            " [0 0 0 ... 0 0 0]\n",
            " [0 0 0 ... 0 0 0]]\n",
            "['19', '2019', 'adalah', 'akhir', 'anak', 'banyak', 'baru', 'bayi', 'beberapa', 'berat', 'bisa', 'bulan', 'cepat', 'china', 'corona', 'coronavirus', 'covid', 'dalam', 'dan', 'dari', 'dengan', 'desember', 'dewasa', 'di', 'disease', 'disebut', 'ditemukan', 'flu', 'golongan', 'hamil', 'hampir', 'hanya', 'ibu', 'indonesia', 'infeksi', 'ini', 'jenis', 'juga', 'kali', 'kasus', 'ke', 'kota', 'kumpulan', 'lanjut', 'lansia', 'manusia', 'menginfeksi', 'menular', 'menyebabkan', 'menyebar', 'menyerang', 'menyusui', 'namun', 'negara', 'orang', 'pada', 'paru', 'penumonia', 'pernapasan', 'pertama', 'saja', 'sangat', 'semua', 'seperti', 'siapa', 'telah', 'termasuk', 'usia', 'virus', 'waktu', 'wuhan', 'yang']\n"
          ],
          "name": "stdout"
        }
      ]
    },
    {
      "cell_type": "code",
      "metadata": {
        "id": "0Y_1zWMXHvaV",
        "outputId": "d8ef3b25-ed85-4a4a-fc40-7b177c352412",
        "colab": {
          "base_uri": "https://localhost:8080/"
        }
      },
      "source": [
        "from sklearn.feature_extraction.text import TfidfTransformer\n",
        "from sklearn.pipeline import Pipeline, FeatureUnion\n",
        "model = Pipeline([('vectorizer', CountVectorizer()),\n",
        "                  ('tfidf', TfidfTransformer())])\n",
        "\n",
        "X_train = model.fit_transform(data[\"modified_sentence\"]).toarray()\n",
        "print(X_train)"
      ],
      "execution_count": 45,
      "outputs": [
        {
          "output_type": "stream",
          "text": [
            "[[0. 0. 0. ... 0. 0. 0.]\n",
            " [0. 0. 0. ... 0. 0. 0.]\n",
            " [1. 0. 0. ... 0. 0. 0.]\n",
            " ...\n",
            " [0. 0. 0. ... 0. 0. 0.]\n",
            " [0. 0. 0. ... 0. 0. 0.]\n",
            " [0. 0. 0. ... 0. 0. 0.]]\n"
          ],
          "name": "stdout"
        }
      ]
    },
    {
      "cell_type": "code",
      "metadata": {
        "id": "HUakxuXWIm8D",
        "outputId": "f18719cb-ff18-4e15-e2fa-1569bcf5f2ac",
        "colab": {
          "base_uri": "https://localhost:8080/",
          "height": 604
        }
      },
      "source": [
        "Y=data[\"answer\"]\n",
        "question=\"kapan covid berkahir?\""
      ],
      "execution_count": 44,
      "outputs": [
        {
          "output_type": "error",
          "ename": "KeyError",
          "evalue": "ignored",
          "traceback": [
            "\u001b[0;31m---------------------------------------------------------------------------\u001b[0m",
            "\u001b[0;31mKeyError\u001b[0m                                  Traceback (most recent call last)",
            "\u001b[0;32m/usr/local/lib/python3.7/dist-packages/pandas/core/indexes/base.py\u001b[0m in \u001b[0;36mget_loc\u001b[0;34m(self, key, method, tolerance)\u001b[0m\n\u001b[1;32m   2897\u001b[0m             \u001b[0;32mtry\u001b[0m\u001b[0;34m:\u001b[0m\u001b[0;34m\u001b[0m\u001b[0;34m\u001b[0m\u001b[0m\n\u001b[0;32m-> 2898\u001b[0;31m                 \u001b[0;32mreturn\u001b[0m \u001b[0mself\u001b[0m\u001b[0;34m.\u001b[0m\u001b[0m_engine\u001b[0m\u001b[0;34m.\u001b[0m\u001b[0mget_loc\u001b[0m\u001b[0;34m(\u001b[0m\u001b[0mcasted_key\u001b[0m\u001b[0;34m)\u001b[0m\u001b[0;34m\u001b[0m\u001b[0;34m\u001b[0m\u001b[0m\n\u001b[0m\u001b[1;32m   2899\u001b[0m             \u001b[0;32mexcept\u001b[0m \u001b[0mKeyError\u001b[0m \u001b[0;32mas\u001b[0m \u001b[0merr\u001b[0m\u001b[0;34m:\u001b[0m\u001b[0;34m\u001b[0m\u001b[0;34m\u001b[0m\u001b[0m\n",
            "\u001b[0;32mpandas/_libs/index.pyx\u001b[0m in \u001b[0;36mpandas._libs.index.IndexEngine.get_loc\u001b[0;34m()\u001b[0m\n",
            "\u001b[0;32mpandas/_libs/index.pyx\u001b[0m in \u001b[0;36mpandas._libs.index.IndexEngine.get_loc\u001b[0;34m()\u001b[0m\n",
            "\u001b[0;32mpandas/_libs/hashtable_class_helper.pxi\u001b[0m in \u001b[0;36mpandas._libs.hashtable.PyObjectHashTable.get_item\u001b[0;34m()\u001b[0m\n",
            "\u001b[0;32mpandas/_libs/hashtable_class_helper.pxi\u001b[0m in \u001b[0;36mpandas._libs.hashtable.PyObjectHashTable.get_item\u001b[0;34m()\u001b[0m\n",
            "\u001b[0;31mKeyError\u001b[0m: 'answer'",
            "\nThe above exception was the direct cause of the following exception:\n",
            "\u001b[0;31mKeyError\u001b[0m                                  Traceback (most recent call last)",
            "\u001b[0;32m<ipython-input-44-3597e3de00ba>\u001b[0m in \u001b[0;36m<module>\u001b[0;34m()\u001b[0m\n\u001b[0;32m----> 1\u001b[0;31m \u001b[0mY\u001b[0m\u001b[0;34m=\u001b[0m\u001b[0mdata\u001b[0m\u001b[0;34m[\u001b[0m\u001b[0;34m\"answer\"\u001b[0m\u001b[0;34m]\u001b[0m\u001b[0;34m\u001b[0m\u001b[0;34m\u001b[0m\u001b[0m\n\u001b[0m\u001b[1;32m      2\u001b[0m \u001b[0mquestion\u001b[0m\u001b[0;34m=\u001b[0m\u001b[0;34m\"kapan covid berkahir?\"\u001b[0m\u001b[0;34m\u001b[0m\u001b[0;34m\u001b[0m\u001b[0m\n",
            "\u001b[0;32m/usr/local/lib/python3.7/dist-packages/pandas/core/frame.py\u001b[0m in \u001b[0;36m__getitem__\u001b[0;34m(self, key)\u001b[0m\n\u001b[1;32m   2904\u001b[0m             \u001b[0;32mif\u001b[0m \u001b[0mself\u001b[0m\u001b[0;34m.\u001b[0m\u001b[0mcolumns\u001b[0m\u001b[0;34m.\u001b[0m\u001b[0mnlevels\u001b[0m \u001b[0;34m>\u001b[0m \u001b[0;36m1\u001b[0m\u001b[0;34m:\u001b[0m\u001b[0;34m\u001b[0m\u001b[0;34m\u001b[0m\u001b[0m\n\u001b[1;32m   2905\u001b[0m                 \u001b[0;32mreturn\u001b[0m \u001b[0mself\u001b[0m\u001b[0;34m.\u001b[0m\u001b[0m_getitem_multilevel\u001b[0m\u001b[0;34m(\u001b[0m\u001b[0mkey\u001b[0m\u001b[0;34m)\u001b[0m\u001b[0;34m\u001b[0m\u001b[0;34m\u001b[0m\u001b[0m\n\u001b[0;32m-> 2906\u001b[0;31m             \u001b[0mindexer\u001b[0m \u001b[0;34m=\u001b[0m \u001b[0mself\u001b[0m\u001b[0;34m.\u001b[0m\u001b[0mcolumns\u001b[0m\u001b[0;34m.\u001b[0m\u001b[0mget_loc\u001b[0m\u001b[0;34m(\u001b[0m\u001b[0mkey\u001b[0m\u001b[0;34m)\u001b[0m\u001b[0;34m\u001b[0m\u001b[0;34m\u001b[0m\u001b[0m\n\u001b[0m\u001b[1;32m   2907\u001b[0m             \u001b[0;32mif\u001b[0m \u001b[0mis_integer\u001b[0m\u001b[0;34m(\u001b[0m\u001b[0mindexer\u001b[0m\u001b[0;34m)\u001b[0m\u001b[0;34m:\u001b[0m\u001b[0;34m\u001b[0m\u001b[0;34m\u001b[0m\u001b[0m\n\u001b[1;32m   2908\u001b[0m                 \u001b[0mindexer\u001b[0m \u001b[0;34m=\u001b[0m \u001b[0;34m[\u001b[0m\u001b[0mindexer\u001b[0m\u001b[0;34m]\u001b[0m\u001b[0;34m\u001b[0m\u001b[0;34m\u001b[0m\u001b[0m\n",
            "\u001b[0;32m/usr/local/lib/python3.7/dist-packages/pandas/core/indexes/base.py\u001b[0m in \u001b[0;36mget_loc\u001b[0;34m(self, key, method, tolerance)\u001b[0m\n\u001b[1;32m   2898\u001b[0m                 \u001b[0;32mreturn\u001b[0m \u001b[0mself\u001b[0m\u001b[0;34m.\u001b[0m\u001b[0m_engine\u001b[0m\u001b[0;34m.\u001b[0m\u001b[0mget_loc\u001b[0m\u001b[0;34m(\u001b[0m\u001b[0mcasted_key\u001b[0m\u001b[0;34m)\u001b[0m\u001b[0;34m\u001b[0m\u001b[0;34m\u001b[0m\u001b[0m\n\u001b[1;32m   2899\u001b[0m             \u001b[0;32mexcept\u001b[0m \u001b[0mKeyError\u001b[0m \u001b[0;32mas\u001b[0m \u001b[0merr\u001b[0m\u001b[0;34m:\u001b[0m\u001b[0;34m\u001b[0m\u001b[0;34m\u001b[0m\u001b[0m\n\u001b[0;32m-> 2900\u001b[0;31m                 \u001b[0;32mraise\u001b[0m \u001b[0mKeyError\u001b[0m\u001b[0;34m(\u001b[0m\u001b[0mkey\u001b[0m\u001b[0;34m)\u001b[0m \u001b[0;32mfrom\u001b[0m \u001b[0merr\u001b[0m\u001b[0;34m\u001b[0m\u001b[0;34m\u001b[0m\u001b[0m\n\u001b[0m\u001b[1;32m   2901\u001b[0m \u001b[0;34m\u001b[0m\u001b[0m\n\u001b[1;32m   2902\u001b[0m         \u001b[0;32mif\u001b[0m \u001b[0mtolerance\u001b[0m \u001b[0;32mis\u001b[0m \u001b[0;32mnot\u001b[0m \u001b[0;32mNone\u001b[0m\u001b[0;34m:\u001b[0m\u001b[0;34m\u001b[0m\u001b[0;34m\u001b[0m\u001b[0m\n",
            "\u001b[0;31mKeyError\u001b[0m: 'answer'"
          ]
        }
      ]
    },
    {
      "cell_type": "code",
      "metadata": {
        "id": "jcPSLommI-K9",
        "outputId": "9a0efd50-8a59-4570-aaf7-426633b22b58",
        "colab": {
          "base_uri": "https://localhost:8080/",
          "height": 247
        }
      },
      "source": [
        "from sklearn.naive_bayes import MultinomialNB\n",
        "clf2 = MultinomialNB().fit(X_train, Y)\n",
        "\n",
        "P=model.transform([Cleaning(question)])\n",
        "predict2=clf2.predict(P)\n",
        "print (predict2)"
      ],
      "execution_count": 39,
      "outputs": [
        {
          "output_type": "error",
          "ename": "NameError",
          "evalue": "ignored",
          "traceback": [
            "\u001b[0;31m---------------------------------------------------------------------------\u001b[0m",
            "\u001b[0;31mNameError\u001b[0m                                 Traceback (most recent call last)",
            "\u001b[0;32m<ipython-input-39-943d72215db1>\u001b[0m in \u001b[0;36m<module>\u001b[0;34m()\u001b[0m\n\u001b[1;32m      1\u001b[0m \u001b[0;32mfrom\u001b[0m \u001b[0msklearn\u001b[0m\u001b[0;34m.\u001b[0m\u001b[0mnaive_bayes\u001b[0m \u001b[0;32mimport\u001b[0m \u001b[0mMultinomialNB\u001b[0m\u001b[0;34m\u001b[0m\u001b[0;34m\u001b[0m\u001b[0m\n\u001b[0;32m----> 2\u001b[0;31m \u001b[0mclf2\u001b[0m \u001b[0;34m=\u001b[0m \u001b[0mMultinomialNB\u001b[0m\u001b[0;34m(\u001b[0m\u001b[0;34m)\u001b[0m\u001b[0;34m.\u001b[0m\u001b[0mfit\u001b[0m\u001b[0;34m(\u001b[0m\u001b[0mX_train\u001b[0m\u001b[0;34m,\u001b[0m \u001b[0mY\u001b[0m\u001b[0;34m)\u001b[0m\u001b[0;34m\u001b[0m\u001b[0;34m\u001b[0m\u001b[0m\n\u001b[0m\u001b[1;32m      3\u001b[0m \u001b[0;34m\u001b[0m\u001b[0m\n\u001b[1;32m      4\u001b[0m \u001b[0mP\u001b[0m\u001b[0;34m=\u001b[0m\u001b[0mmodel\u001b[0m\u001b[0;34m.\u001b[0m\u001b[0mtransform\u001b[0m\u001b[0;34m(\u001b[0m\u001b[0;34m[\u001b[0m\u001b[0mCleaning\u001b[0m\u001b[0;34m(\u001b[0m\u001b[0mquestion\u001b[0m\u001b[0;34m)\u001b[0m\u001b[0;34m]\u001b[0m\u001b[0;34m)\u001b[0m\u001b[0;34m\u001b[0m\u001b[0;34m\u001b[0m\u001b[0m\n\u001b[1;32m      5\u001b[0m \u001b[0mpredict2\u001b[0m\u001b[0;34m=\u001b[0m\u001b[0mclf2\u001b[0m\u001b[0;34m.\u001b[0m\u001b[0mpredict\u001b[0m\u001b[0;34m(\u001b[0m\u001b[0mP\u001b[0m\u001b[0;34m)\u001b[0m\u001b[0;34m\u001b[0m\u001b[0;34m\u001b[0m\u001b[0m\n",
            "\u001b[0;31mNameError\u001b[0m: name 'Y' is not defined"
          ]
        }
      ]
    },
    {
      "cell_type": "code",
      "metadata": {
        "id": "hPAP615jJWbI",
        "outputId": "706d51a0-32fa-466d-c921-411571c94ae6",
        "colab": {
          "base_uri": "https://localhost:8080/",
          "height": 229
        }
      },
      "source": [
        "final_predict=[]\n",
        "final_predict=list(predict)\n",
        "final_predict=Counter(final_predict)\n",
        "print (\"Thus answer to your question is\", final_predict.most_common(1)[0][0])"
      ],
      "execution_count": 40,
      "outputs": [
        {
          "output_type": "error",
          "ename": "NameError",
          "evalue": "ignored",
          "traceback": [
            "\u001b[0;31m---------------------------------------------------------------------------\u001b[0m",
            "\u001b[0;31mNameError\u001b[0m                                 Traceback (most recent call last)",
            "\u001b[0;32m<ipython-input-40-4540518c45da>\u001b[0m in \u001b[0;36m<module>\u001b[0;34m()\u001b[0m\n\u001b[1;32m      1\u001b[0m \u001b[0mfinal_predict\u001b[0m\u001b[0;34m=\u001b[0m\u001b[0;34m[\u001b[0m\u001b[0;34m]\u001b[0m\u001b[0;34m\u001b[0m\u001b[0;34m\u001b[0m\u001b[0m\n\u001b[0;32m----> 2\u001b[0;31m \u001b[0mfinal_predict\u001b[0m\u001b[0;34m=\u001b[0m\u001b[0mlist\u001b[0m\u001b[0;34m(\u001b[0m\u001b[0mpredict\u001b[0m\u001b[0;34m)\u001b[0m\u001b[0;34m\u001b[0m\u001b[0;34m\u001b[0m\u001b[0m\n\u001b[0m\u001b[1;32m      3\u001b[0m \u001b[0mfinal_predict\u001b[0m\u001b[0;34m=\u001b[0m\u001b[0mCounter\u001b[0m\u001b[0;34m(\u001b[0m\u001b[0mfinal_predict\u001b[0m\u001b[0;34m)\u001b[0m\u001b[0;34m\u001b[0m\u001b[0;34m\u001b[0m\u001b[0m\n\u001b[1;32m      4\u001b[0m \u001b[0mprint\u001b[0m \u001b[0;34m(\u001b[0m\u001b[0;34m\"Thus answer to your question is\"\u001b[0m\u001b[0;34m,\u001b[0m \u001b[0mfinal_predict\u001b[0m\u001b[0;34m.\u001b[0m\u001b[0mmost_common\u001b[0m\u001b[0;34m(\u001b[0m\u001b[0;36m1\u001b[0m\u001b[0;34m)\u001b[0m\u001b[0;34m[\u001b[0m\u001b[0;36m0\u001b[0m\u001b[0;34m]\u001b[0m\u001b[0;34m[\u001b[0m\u001b[0;36m0\u001b[0m\u001b[0;34m]\u001b[0m\u001b[0;34m)\u001b[0m\u001b[0;34m\u001b[0m\u001b[0;34m\u001b[0m\u001b[0m\n",
            "\u001b[0;31mNameError\u001b[0m: name 'predict' is not defined"
          ]
        }
      ]
    },
    {
      "cell_type": "code",
      "metadata": {
        "id": "AiWSIuFiJzBO",
        "outputId": "318fd0a8-1e56-4e14-d2e1-6843319a6381",
        "colab": {
          "base_uri": "https://localhost:8080/",
          "height": 136
        }
      },
      "source": [
        "## Generate Answer\n",
        "answer_dictionary={\n",
        "    \"statement\":[\"Virus Corona yang menyebabkan COVID-19 bisa menyerang siapa saja.\"]\n",
        "    \"product\":[\"Rapid test untuk mendeteksi antibodi (IgM dan IgG) yang diproduksi oleh tubuh untuk melawan virus Corona\"]\n",
        "    \"treatment\":[\"Beberapa pasien dengan gejala ringan atau tanpa gejala akan di sarankan untuk melakukan protokol isolasi mandiri di rumah sambil tetap melakukan langkah pencegahan penyebaran infeksi virus Corona.\"]\n",
        "    \"precaution\":[\"Melakukan Vaksinasi, Melakukan Physical Distancing, Menggunakan Masker, Menjaga imunitas tubuh, Menjaga Kesehatan Tubuh, Menjaga Kebersihan Lingkungan dan Benda Sekitar.\"]\n",
        "}"
      ],
      "execution_count": 41,
      "outputs": [
        {
          "output_type": "error",
          "ename": "SyntaxError",
          "evalue": "ignored",
          "traceback": [
            "\u001b[0;36m  File \u001b[0;32m\"<ipython-input-41-170069e494a6>\"\u001b[0;36m, line \u001b[0;32m4\u001b[0m\n\u001b[0;31m    \"product\":[\"Rapid test untuk mendeteksi antibodi (IgM dan IgG) yang diproduksi oleh tubuh untuk melawan virus Corona\"]\u001b[0m\n\u001b[0m            ^\u001b[0m\n\u001b[0;31mSyntaxError\u001b[0m\u001b[0;31m:\u001b[0m invalid syntax\n"
          ]
        }
      ]
    },
    {
      "cell_type": "code",
      "metadata": {
        "id": "I7Hqbxo-KPPI"
      },
      "source": [
        "import random\n",
        "\n",
        "def generate_answer(predict_class):\n",
        "  ans=random.choice(answer_dictionary[predict_class])\n",
        "  return ans"
      ],
      "execution_count": 42,
      "outputs": []
    },
    {
      "cell_type": "code",
      "metadata": {
        "id": "ww78XFMhKd4i",
        "outputId": "cfebe722-7ecd-4a9a-8e1f-14b147bed1ca",
        "colab": {
          "base_uri": "https://localhost:8080/",
          "height": 266
        }
      },
      "source": [
        "## the chatbot ##\n",
        "question = input(\"Enter Question = \")\n",
        "prediction=Predict(question)\n",
        "ans=generate_answer(prediction)\n",
        "print(\"Answer = \",ans)"
      ],
      "execution_count": 43,
      "outputs": [
        {
          "output_type": "stream",
          "text": [
            "Enter Question = kapan harus ke dokter\n"
          ],
          "name": "stdout"
        },
        {
          "output_type": "error",
          "ename": "NameError",
          "evalue": "ignored",
          "traceback": [
            "\u001b[0;31m---------------------------------------------------------------------------\u001b[0m",
            "\u001b[0;31mNameError\u001b[0m                                 Traceback (most recent call last)",
            "\u001b[0;32m<ipython-input-43-07448663089a>\u001b[0m in \u001b[0;36m<module>\u001b[0;34m()\u001b[0m\n\u001b[1;32m      1\u001b[0m \u001b[0;31m## the chatbot ##\u001b[0m\u001b[0;34m\u001b[0m\u001b[0;34m\u001b[0m\u001b[0;34m\u001b[0m\u001b[0m\n\u001b[1;32m      2\u001b[0m \u001b[0mquestion\u001b[0m \u001b[0;34m=\u001b[0m \u001b[0minput\u001b[0m\u001b[0;34m(\u001b[0m\u001b[0;34m\"Enter Question = \"\u001b[0m\u001b[0;34m)\u001b[0m\u001b[0;34m\u001b[0m\u001b[0;34m\u001b[0m\u001b[0m\n\u001b[0;32m----> 3\u001b[0;31m \u001b[0mprediction\u001b[0m\u001b[0;34m=\u001b[0m\u001b[0mPredict\u001b[0m\u001b[0;34m(\u001b[0m\u001b[0mquestion\u001b[0m\u001b[0;34m)\u001b[0m\u001b[0;34m\u001b[0m\u001b[0;34m\u001b[0m\u001b[0m\n\u001b[0m\u001b[1;32m      4\u001b[0m \u001b[0mans\u001b[0m\u001b[0;34m=\u001b[0m\u001b[0mgenerate_answer\u001b[0m\u001b[0;34m(\u001b[0m\u001b[0mprediction\u001b[0m\u001b[0;34m)\u001b[0m\u001b[0;34m\u001b[0m\u001b[0;34m\u001b[0m\u001b[0m\n\u001b[1;32m      5\u001b[0m \u001b[0mprint\u001b[0m\u001b[0;34m(\u001b[0m\u001b[0;34m\"Answer = \"\u001b[0m\u001b[0;34m,\u001b[0m\u001b[0mans\u001b[0m\u001b[0;34m)\u001b[0m\u001b[0;34m\u001b[0m\u001b[0;34m\u001b[0m\u001b[0m\n",
            "\u001b[0;31mNameError\u001b[0m: name 'Predict' is not defined"
          ]
        }
      ]
    }
  ]
}